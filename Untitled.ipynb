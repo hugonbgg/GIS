{
 "cells": [
  {
   "cell_type": "code",
   "execution_count": 2,
   "id": "e0822004-e734-4ce8-88cb-bb427c1c4613",
   "metadata": {},
   "outputs": [],
   "source": [
    "#importando as bibliotecas\n",
    "from owslib.wfs import WebFeatureService\n",
    "import geopandas as gpd\n",
    "import os\n",
    "import requests\n",
    "from tqdm import tqdm\n",
    "import rasterio\n",
    "from rasterio.merge import merge\n",
    "import numpy as np\n",
    "from zipfile import ZipFile"
   ]
  },
  {
   "cell_type": "code",
   "execution_count": 4,
   "id": "f01f385c-9683-4e9c-ab18-bfcc9fddae3f",
   "metadata": {},
   "outputs": [],
   "source": [
    "# URL do serviço WFS\n",
    "wfs_url = 'http://wfs.geosampa.prefeitura.sp.gov.br/geoserver/geoportal/wfs'"
   ]
  },
  {
   "cell_type": "code",
   "execution_count": 18,
   "id": "831126a2-57de-48cb-b55e-0be87c991c8e",
   "metadata": {},
   "outputs": [],
   "source": [
    "# Conectar ao WFS\n",
    "wfs = WebFeatureService(url=wfs_url, version='2.0.0')"
   ]
  },
  {
   "cell_type": "code",
   "execution_count": 19,
   "id": "4cab95b0-fe40-4e14-bea3-5d9474b80a09",
   "metadata": {},
   "outputs": [
    {
     "name": "stdout",
     "output_type": "stream",
     "text": [
      "Camadas disponíveis no WFS:\n",
      "geoportal:adesampa\n",
      "geoportal:GEOSAMPA_zoneamento_geoambiental_apa_cm\n",
      "geoportal:sac_comunicacao_colisao_veiculo_atende\n",
      "geoportal:equipamento_saude_abrangencia_ubs\n",
      "geoportal:patrimonio_cultural_acervo_tombado\n",
      "geoportal:acidente_cet\n",
      "geoportal:servico_divisivel_agrupamento\n",
      "geoportal:agencia_funeraria\n",
      "geoportal:risco_ocorrencia_alagamento\n",
      "geoportal:aiu_vl_alinhamento_viario\n",
      "geoportal:alinhamento_viario_aiu\n",
      "geoportal:equipamento_saude_ambulatorios_especializados\n",
      "geoportal:equipamento_ccz\n",
      "geoportal:sac_remocao_animal_grande_porte_solto\n",
      "geoportal:apoio_terrestre\n",
      "geoportal:arvore\n",
      "geoportal:arruamento_aprovado\n",
      "geoportal:arruamento_regularizado\n",
      "geoportal:equipamento_assistencia_social\n",
      "geoportal:aterro_rcc\n",
      "geoportal:aterro_sanitario\n",
      "geoportal:sac_ausencia_coleta_conteiner_coleta_seletiva\n",
      "geoportal:sac_avaliacao_animal_sofrimento_eutanasia\n",
      "geoportal:sac_aviso_animal_encontrado\n",
      "geoportal:sac_aviso_animal_agressor_via_publica\n",
      "geoportal:bacia_hidrografica\n",
      "geoportal:patrimonio_cultural_bairro_ambiental\n",
      "geoportal:patrimonio_cultural_bem_registrado\n",
      "geoportal:patrimonio_cultural_bem_tombado\n",
      "geoportal:patrimonio_cultural_bem_arqueologico\n",
      "geoportal:equipamento_cultura_bibliotecas\n",
      "geoportal:bicicletario_paraciclo\n",
      "geoportal:sac_falha_recarga_bilhete_unico\n",
      "geoportal:equipamento_bom_prato\n",
      "geoportal:equipamento_bombeiros\n",
      "geoportal:caps_ad\n",
      "geoportal:equipamento_educacao_ceu\n",
      "geoportal:calcada\n",
      "geoportal:sac_capinacao_guia_sarjeta\n",
      "geoportal:carta_geotecnica\n",
      "geoportal:cartorio_registro_imovel\n",
      "geoportal:equipamento_casas_mediacao\n",
      "geoportal:sac_cata_bagulho\n",
      "geoportal:equipamento_cemiterio\n",
      "geoportal:central_intermediacao_libra\n",
      "geoportal:central_triagem_mecanizada\n",
      "geoportal:equipamento_esporte_centro_esportivo\n",
      "geoportal:centro_referencia_assistencia_social\n",
      "geoportal:sac_solicitacao_avaliacao_ciclofaixa_lazer\n",
      "geoportal:sac_solicitacao_avaliacao_infraestrutura_ciclovia\n",
      "geoportal:sac_sugestao_implantacao_ciclovia_ciclofaixa\n",
      "geoportal:sac_solicitacao_manutencao_sinalizacao_pintura_ciclofaixa\n",
      "geoportal:cidade_solidaria\n",
      "geoportal:classificacao_viaria_cet\n",
      "geoportal:zoneamento_classificacao_viaria\n",
      "geoportal:classificacao_viaria_quadro_9\n",
      "geoportal:equipamento_esporte_clubes\n",
      "geoportal:equipamento_esporte_clubesdacomunidade\n",
      "geoportal:sac_solicitacao_manutencao_conteiner_coleta_seletiva\n",
      "geoportal:compartimento_ambiental_aiu\n",
      "geoportal:complexo_saude_existente\n",
      "geoportal:sac_comunicacao_erro_cobranca_integracao\n",
      "geoportal:sac_comunicacao_venda_credito_clandestino\n",
      "geoportal:sac_comunicacao_problema_posto_recarga_bilhete_unico\n",
      "geoportal:concessao_parceria\n",
      "geoportal:conjunto\n",
      "geoportal:equipamento_conselho_tutelar\n",
      "geoportal:sac_conserto_lixeira\n",
      "geoportal:contagem_linha_base_ciclista\n",
      "geoportal:controle_uso_via_publica_geoinfra\n",
      "geoportal:central_triagem_cooperativa\n",
      "geoportal:equipamento_saude_coordenadoria_regional\n",
      "geoportal:corredor_onibus\n",
      "geoportal:corredor_ecologico\n",
      "geoportal:sac_criacao_partida_horario_especifico\n",
      "geoportal:sac_criacao_reativacao_linha_onibus\n",
      "geoportal:croqui_patrimonial\n",
      "geoportal:semaforo\n",
      "geoportal:equipamento_cultura_outros\n",
      "geoportal:curva_intermediaria\n",
      "geoportal:curva_intermediaria_s\n",
      "geoportal:curva_mestra\n",
      "geoportal:curva_mestra_s\n",
      "geoportal:declividade\n",
      "geoportal:decreto_utilidade_publica_interesse_social\n",
      "geoportal:deliberacao_ctlu\n",
      "geoportal:setor_censitario_densidadedemografica\n",
      "geoportal:sac_denuncia_ma_conduta_motorista_coletor_limpeza\n",
      "geoportal:sac_denuncia_ma_conduta_funcionario_limpeza\n",
      "geoportal:sac_denuncia_veiculo_clandestino_nao_credenciado\n",
      "geoportal:departamento_cet\n",
      "geoportal:descomplica\n",
      "geoportal:risco_ocorrencia_deslizamento\n",
      "geoportal:desmembramento_gleba\n",
      "geoportal:diretoria_regional_educacao\n",
      "geoportal:diretriz\n",
      "geoportal:distrito_municipal\n",
      "geoportal:drenagem\n",
      "geoportal:ecoponto\n",
      "geoportal:edificacao\n",
      "geoportal:equipamento_educacao_outros\n",
      "geoportal:equipamento_educacao_infantil_rede_publica\n",
      "geoportal:eixo_ativado_decreto\n",
      "geoportal:pde2014_v_eixo_prv_03a_map\n",
      "geoportal:eixo_ambiental_aiu\n",
      "geoportal:pde2014_v_eetr_03_map\n",
      "geoportal:eixo_estrategico_transformacao_aiu\n",
      "geoportal:sac_elogio_empresa_onibus\n",
      "geoportal:equipamento_educacao_rede_publica\n",
      "geoportal:equipamento_educacao_ensino_tecnico_rede_publica\n",
      "geoportal:equipamento_entidade_crianca_adolescente\n",
      "geoportal:sac_erosao_urgencia\n",
      "geoportal:equipamento_cultura_espacos_culturais\n",
      "geoportal:equipamento_esporte_outros\n",
      "geoportal:restricao_mirante_santana\n",
      "geoportal:estacao_radio_base\n",
      "geoportal:estacao_transbordo\n",
      "geoportal:equipamento_esporte_estadios\n",
      "geoportal:sac_explosao_urgencia\n",
      "geoportal:conectividade_fablab_grande\n",
      "geoportal:conectividade_fablab_pequeno\n",
      "geoportal:geoconvias_faixa_nao_edificavel\n",
      "geoportal:faixa_onibus\n",
      "geoportal:equipamento_feira_livre\n",
      "geoportal:ferrovia_mdc\n",
      "geoportal:sac_veiculo_local_proibido\n",
      "geoportal:foto_aerea_drone_helicoptero\n",
      "geoportal:gerencia_cet\n",
      "geoportal:equipamento_guarda_civil_metropolitana\n",
      "geoportal:equipamento_saude_hospital\n",
      "geoportal:setor_censitario_vulnerabilidadesocial\n",
      "geoportal:hidrografia_ilha\n",
      "geoportal:sac_implantacao_abrigo_ponto_onibus\n",
      "geoportal:sac_implantacao_coleta_porta_porta\n",
      "geoportal:imovel_notificado\n",
      "geoportal:sac_inclusao_veiculo_adaptado_linha\n",
      "geoportal:sac_conteiner\n",
      "geoportal:sac_instalacao_conteiner_coleta_seletiva\n",
      "geoportal:sac_remocao_lixeira\n",
      "geoportal:pde_intervencao_pontual_melhoramento_viario\n",
      "geoportal:risco_ocorrencia_inundacao\n",
      "geoportal:patrimonio_cultural_memoria_paulistana\n",
      "geoportal:sac_lavagem_especial\n",
      "geoportal:geoconvias_lei_melhoramento_vigente\n",
      "geoportal:licenca_industrial\n",
      "geoportal:sac_limpeza_enchente_evento\n",
      "geoportal:sac_limpeza_bueiro\n",
      "geoportal:sac_limpeza_onibus\n",
      "geoportal:sac_limpeza_manutencao_monumento_publico\n",
      "geoportal:linha_alta_tensao\n",
      "geoportal:linha_onibus\n",
      "geoportal:segmento_logradouro\n",
      "geoportal:patrimonio_cultural_lugar_paisagistico_ambiental\n",
      "geoportal:pde2014_v_mcrz_01_map\n",
      "geoportal:pde2014_v_mcrar_02_map\n",
      "geoportal:sac_manutencao_conteiner_residuo_servico_saude\n",
      "geoportal:sac_placa_transito\n",
      "geoportal:sac_manutencao_conserto_limpeza_ponto_onibus\n",
      "geoportal:cobertura_vegetal\n",
      "geoportal:marco\n",
      "geoportal:massa_d_agua\n",
      "geoportal:memoria_verdade\n",
      "geoportal:equipamento_mercados_municipais\n",
      "geoportal:estacao_metro\n",
      "geoportal:linha_metro\n",
      "geoportal:area_influencia_metro\n",
      "geoportal:estacao_metro_projetada\n",
      "geoportal:linha_metro_projetada\n",
      "geoportal:patrimonio_cultural_monumento\n",
      "geoportal:sac_reclamar_local_com_morcego\n",
      "geoportal:area_contexto\n",
      "geoportal:equipamento_cultura_museus\n",
      "geoportal:hidrografia_restituida\n",
      "geoportal:obra_arte\n",
      "geoportal:patrimonio_cultural_ocorrencia_arqueologica\n",
      "geoportal:sac_sugestao_elogio_olho_vivo\n",
      "geoportal:operacao_urbana\n",
      "geoportal:outorga_onerosa\n",
      "geoportal:pde_outra_unidade_conservacao\n",
      "geoportal:redencao_outro_servico\n",
      "geoportal:pot_redencao\n",
      "geoportal:sac_painel_mensagem_variavel\n",
      "geoportal:papeleira\n",
      "geoportal:pde_parque_municipal\n",
      "geoportal:GEOSAMPA_cadparcs_parque_unidade_conservacao\n",
      "geoportal:passagem\n",
      "geoportal:perimetro_zoneamento_revogado_lei13885\n",
      "geoportal:aiu_vl_perimetro_adesao\n",
      "geoportal:plano_macro_regional\n",
      "geoportal:plano_acao_regional\n",
      "geoportal:pde2014_v_prmr_ict_11_map\n",
      "geoportal:perimetro_aiu\n",
      "geoportal:perimetro_especial_aiu\n",
      "geoportal:zoneamento_2016_map1\n",
      "geoportal:siat_perimetro_abordagem\n",
      "geoportal:sac_pintura_guia_poste\n",
      "geoportal:articulacao_folha_aiu\n",
      "geoportal:pluviometro\n",
      "geoportal:equipamento_policia_civil\n",
      "geoportal:equipamento_policia_militar\n",
      "geoportal:ponto_cotado\n",
      "geoportal:ponto_intervia\n",
      "geoportal:ponto_revitalizado\n",
      "geoportal:ponto_entrega_voluntaria\n",
      "geoportal:iluminacao_publica\n",
      "geoportal:ponto_onibus\n",
      "geoportal:aiu_vl_projeto_especifico\n",
      "geoportal:proprio_municipal\n",
      "geoportal:patio_compostagem\n",
      "geoportal:quadra_fiscal\n",
      "geoportal:quadra_viaria_editada\n",
      "geoportal:quadra_perimetro_aiu\n",
      "geoportal:sac_quadra_galho_urgencia\n",
      "geoportal:risco_ocorrencia_queda_arvore\n",
      "geoportal:sac_quadra_arvore_urgencia\n",
      "geoportal:GEOSAMPA_heliponto\n",
      "geoportal:sac_reativacao_abrigo_ponto_extinto\n",
      "geoportal:sac_reclamacao_conduta_motorista_atende\n",
      "geoportal:sac_reclamacao_descumprimento_horario_veiculo_adaptado\n",
      "geoportal:sac_reclamacao_falta_comunicacao_onibus\n",
      "geoportal:sac_reclamacao_falta_lavagem_calcadao\n",
      "geoportal:sac_reclamacao_falta_limpeza_ruas_feira\n",
      "geoportal:sac_reclamacao_falta_limpeza_terminal_onibus\n",
      "geoportal:sac_falta_varricao\n",
      "geoportal:sac_reclamacao_fila_tumulto_terminal_onibus\n",
      "geoportal:sac_remocao_saco_varricao\n",
      "geoportal:sac_reclamacao_problema_olho_vivo\n",
      "geoportal:sac_reclamacao_sinalizacao_inadequada_terminal_onibus\n",
      "geoportal:sac_reclamacao_coleta_lixo_domiciliar\n",
      "geoportal:sac_reclamacao_coleta_residuo_servico_saude\n",
      "geoportal:sac_reclamacao_coleta_seletiva\n",
      "geoportal:equipamento_educacao_rede_privada\n",
      "geoportal:via_bicicleta\n",
      "geoportal:equipamento_rede_servicos\n",
      "geoportal:rede_mobilidade_aiu\n",
      "geoportal:transpetro_duto\n",
      "geoportal:transpetro_marco\n",
      "geoportal:sac_reformar_galeria_agua_chuva_pluvial\n",
      "geoportal:sac_reimplantacao_substituicao_ponto_onibus_antigo_novo\n",
      "geoportal:sac_remanejamento_ponto_onibus\n",
      "geoportal:remanescente_pmma\n",
      "geoportal:sac_remocao_animal\n",
      "geoportal:sac_remocao_conteiner_coleta_lixo_domiciliar\n",
      "geoportal:sac_remocao_entulho\n",
      "geoportal:sac_remocao_grande_objeto\n",
      "geoportal:sac_remocao_conteiner_coleta_seletiva\n",
      "geoportal:sac_reparo_catraca_eletronica_validador_falha\n",
      "geoportal:sac_reparo_problema_mecanico_transito_transporte\n",
      "geoportal:sac_reparo_manutencao_relogio_rua\n",
      "geoportal:represa_nivel_maximo\n",
      "geoportal:requalifica_centro_perimetro_especial\n",
      "geoportal:requalifica_centro_perimetro_geral\n",
      "geoportal:reservatorio_amortecimento\n",
      "geoportal:reservatorio_amortecimento_ponto\n",
      "geoportal:restricao_circulacao_veiculo_mian\n",
      "geoportal:restricao_circulacao_veiculo_zmrc\n",
      "geoportal:restricao_circulacao_veiculo_zmrf\n",
      "geoportal:tratamento_residuo_solido_saude\n",
      "geoportal:area_risco_geologico\n",
      "geoportal:risco_hidrologico\n",
      "geoportal:risco_ocorrencia_risco_deslizamento\n",
      "geoportal:sac_rompimento_galeria_agua_pluvial\n",
      "geoportal:siat_ii\n",
      "geoportal:siat_iii\n",
      "geoportal:sac_sugestao_sptrans\n",
      "geoportal:equipamento_sacoloes\n",
      "geoportal:equipamento_saude_outros\n",
      "geoportal:equipamento_saude_saude_mental\n",
      "geoportal:acessibilidade_smped\n",
      "geoportal:patrimonio_cultural_selo_valor_cultural\n",
      "geoportal:sac_selo_identificacao_estabelecimento_gerador_residuo\n",
      "geoportal:equipamento_educacao_senai_sesi_senac\n",
      "geoportal:servico_assistencia_social_familia\n",
      "geoportal:servico_medida_socioeducativa\n",
      "geoportal:servico_varricao_lote_amlurb\n",
      "geoportal:setor_fiscal\n",
      "geoportal:setor_censitario_2010\n",
      "geoportal:setor_educacional\n",
      "geoportal:pde2014_v_maem_02a_map\n",
      "geoportal:equipamento_shopping_center\n",
      "geoportal:sac_sinalizacao_horizontal_apagada_repintura\n",
      "geoportal:pde_drenagem_acao_prioritaria_linear\n",
      "geoportal:pde_drenagem_acao_prioritaria_pontual\n",
      "geoportal:sac_avaliacao_local_pernilongo_mosquito\n",
      "geoportal:solo_mole\n",
      "geoportal:sede_subprefeitura\n",
      "geoportal:subprefeitura\n",
      "geoportal:sac_sugestao_obra_drenagem_corrego\n",
      "geoportal:equipamento_saude_supervisao_tecnica\n",
      "geoportal:patrimonio_cultural_sitio_arqueologico\n",
      "geoportal:sac_tapa_buraco\n",
      "geoportal:sac_tapa_buraco_faixa_corredor\n",
      "geoportal:equipamento_cultura_teatro_cinema_show\n",
      "geoportal:conectividade_telecentro\n",
      "geoportal:terminal_onibus\n",
      "geoportal:termo_compromisso_ambiental_svma\n",
      "geoportal:GEOSAMPA_terra_indigena\n",
      "geoportal:torre_alta_tensao\n",
      "geoportal:pde_transporte_estacao_terminal\n",
      "geoportal:pde_transporte_linha\n",
      "geoportal:estacao_trem\n",
      "geoportal:linha_trem\n",
      "geoportal:estacao_trem_projetada\n",
      "geoportal:linha_trem_projetada\n",
      "geoportal:area_influencia_trem\n",
      "geoportal:equipamento_saude_ubs_posto_centro\n",
      "geoportal:unidade_produtiva_rural\n",
      "geoportal:equipamento_saude_unidades_dst-aids\n",
      "geoportal:pde2014_v_zu_zr_01a_map\n",
      "geoportal:equipamento_saude_urgencia_emergencia\n",
      "geoportal:uso_predominante_solo_2014_60\n",
      "geoportal:uso_predominante_solo_2018_60\n",
      "geoportal:uso_predominante_solo_2021_60\n",
      "geoportal:uso_predominante_solo_2014_simples\n",
      "geoportal:uso_predominante_solo_2018_simples\n",
      "geoportal:uso_predominante_solo_2021_simples\n",
      "geoportal:quadricula_vasp_cruzeiro\n",
      "geoportal:vaga_especial\n",
      "geoportal:estabelecimento_vaga_especial\n",
      "geoportal:GEOSAMPA_cgpabi_vegetacao_significativa\n",
      "geoportal:velorio\n",
      "geoportal:equipamento_saude_vigilancia_saude\n",
      "geoportal:sac_vistoria_colmeia_vespeiro_instalado\n",
      "geoportal:sac_vistoria_reparo_ponte_viaduto\n",
      "geoportal:pde_viario_estrutural\n",
      "geoportal:equipamento_praca_wifi\n",
      "geoportal:zeis_revogada\n",
      "geoportal:pde2014_v_zeis_04_map\n",
      "geoportal:pde2014_v_zeis_04a_map\n",
      "geoportal:aiu_vl_zeis1\n",
      "geoportal:zona_especial_preservacao_cultural_apc\n",
      "geoportal:zona_fiscal\n",
      "geoportal:zona_origem_destino\n",
      "geoportal:zoneamento_corredor_uso\n",
      "geoportal:zona_ocupacao_especial_aiu\n",
      "geoportal:area_publica_cgpatri\n",
      "geoportal:geohabisp_vw_wfs_cortico_geosampa\n",
      "geoportal:geohabisp_vw_wfs_favela_geosampa\n",
      "geoportal:lote_cidadao\n",
      "geoportal:geohabisp_vw_wfs_loteamento_geosampa\n",
      "geoportal:geohabisp_vw_wfs_nucleo_geosampa\n",
      "geoportal:subsetor_operacao_urbana\n",
      "geoportal:area_contaminada_reabilitada_svma\n",
      "geoportal:patrimonio_cultural_area_envoltoria_CONDEPHAAT\n",
      "geoportal:patrimonio_cultural_area_envoltoria_CONPRESP\n",
      "geoportal:patrimonio_cultural_area_envoltoria_IPHAN\n",
      "geoportal:area_inundavel\n",
      "geoportal:area_cedida\n",
      "geoportal:GEOSAMPA_cadparcs_area_protecao_apa\n",
      "geoportal:pde_area_protecao_ambiental_apa\n",
      "geoportal:manancial_juquery\n",
      "geoportal:manancial_billings\n",
      "geoportal:manancial_guarapiranga\n",
      "geoportal:conselho_tutelar_perimetro\n",
      "geoportal:equipamento_saude_cobertura_familia\n",
      "geoportal:pde2014_v_parq_pde_map\n",
      "geoportal:restricao_geotecnica\n",
      "geoportal:patrimonio_cultural_area_arqueologica\n",
      "geoportal:area_qualificacao_transformacao_aiu\n",
      "geoportal:perimetro_tpc_aiu\n",
      "geoportal:area_verde_aiu\n",
      "geoportal:quadricula_SARA_1930_E1000\n",
      "geoportal:quadricula_SARA_1930_E20000\n",
      "geoportal:quadricula_SARA_1930_E5000\n",
      "geoportal:quadricula_foto_aerea_1940\n",
      "geoportal:quadricula_foto_aerea_1954\n",
      "geoportal:quadricula_foto_aerea_1996_1994\n",
      "geoportal:quadricula_foto_aerea_2000\n",
      "geoportal:quadricula_foto_aerea_2001\n",
      "geoportal:quadricula_foto_aerea_2004_E1000\n",
      "geoportal:quadricula_foto_aerea_2004_E5000\n",
      "geoportal:quadricula_foto_aerea_2017\n",
      "geoportal:quadricula_orto_2001\n",
      "geoportal:quadricula_orto_2004_E1000\n",
      "geoportal:quadricula_orto_2004_E5000\n",
      "geoportal:quadricula_orto_2017\n",
      "geoportal:quadricula_orto_2020\n",
      "geoportal:quadricula_folha_mds\n",
      "geoportal:quadricula_folha_mdt_mds_2020\n",
      "geoportal:sac_alteracao_itinerario_ponto_inicial_final\n",
      "geoportal:sac_denuncia_alteracao_itinerario_ponto_inicial_final\n",
      "geoportal:sac_denuncia_conduta_motorista_cobrador_fiscal_onibus\n",
      "geoportal:sac_denuncia_direcao_inadequada_perigosa_onibus\n",
      "geoportal:sac_denuncia_problema_embarque_desembarque_onibus\n",
      "geoportal:sac_elogio_motorista_cobrador_fiscal_onibus\n",
      "geoportal:sac_manutencao_veiculo_geral\n",
      "geoportal:sac_reclamacao_demora_partida_onibus\n",
      "geoportal:sac_reclamacao_descumprimento_partida_ponto_inicial_final_oni\n",
      "geoportal:sac_intervalo_excessivo_onibus\n",
      "geoportal:sac_reclamacao_veiculo_superlotacao_onibus\n"
     ]
    }
   ],
   "source": [
    "# Listar as camadas disponíveis\n",
    "print(\"Camadas disponíveis no WFS:\")\n",
    "for layer in list(wfs.contents):\n",
    "    print(layer)"
   ]
  },
  {
   "cell_type": "code",
   "execution_count": 22,
   "id": "69cb8d67-810e-441a-8029-3e7ae3edcb76",
   "metadata": {},
   "outputs": [
    {
     "name": "stdout",
     "output_type": "stream",
     "text": [
      "\n",
      "Informações da camada geoportal:quadricula_orto_2020:\n",
      "Title: Índice das Ortofotos 2020\n",
      "Abstract: Índice das Ortofotos 2020, escala 1:1000 e 1:5000\n",
      "Bounding Box: (-47.47849807885537, -24.19376329804249, -45.773692681083574, -23.137814287792693)\n"
     ]
    }
   ],
   "source": [
    "# Para obter mais informações sobre uma camada específica\n",
    "layer_name = 'geoportal:quadricula_orto_2020'  # Substitua pelo nome da camada de interesse\n",
    "layer = wfs[layer_name]\n",
    "\n",
    "print(f\"\\nInformações da camada {layer_name}:\")\n",
    "print(f\"Title: {layer.title}\")\n",
    "print(f\"Abstract: {layer.abstract}\")\n",
    "print(f\"Bounding Box: {layer.boundingBoxWGS84}\")"
   ]
  },
  {
   "cell_type": "code",
   "execution_count": 27,
   "id": "994aea6f-e2d6-4739-8fcb-0da34c864110",
   "metadata": {},
   "outputs": [
    {
     "data": {
      "text/plain": [
       "'\\nInformações da camada geoportal:quadricula_orto_2020:'"
      ]
     },
     "metadata": {},
     "output_type": "display_data"
    },
    {
     "name": "stdout",
     "output_type": "stream",
     "text": [
      "<class 'geopandas.geodataframe.GeoDataFrame'>\n",
      "RangeIndex: 4180 entries, 0 to 4179\n",
      "Data columns (total 6 columns):\n",
      " #   Column                Non-Null Count  Dtype   \n",
      "---  ------                --------------  -----   \n",
      " 0   id                    4180 non-null   object  \n",
      " 1   cd_identificador      4180 non-null   int32   \n",
      " 2   cd_quadricula         4180 non-null   object  \n",
      " 3   cd_levantamento       4180 non-null   int32   \n",
      " 4   cd_escala_quadricula  4180 non-null   object  \n",
      " 5   geometry              4180 non-null   geometry\n",
      "dtypes: geometry(1), int32(2), object(3)\n",
      "memory usage: 163.4+ KB\n"
     ]
    },
    {
     "data": {
      "text/plain": [
       "None"
      ]
     },
     "metadata": {},
     "output_type": "display_data"
    },
    {
     "data": {
      "text/plain": [
       "'\\nInformações da camada geoportal:distrito_municipal:'"
      ]
     },
     "metadata": {},
     "output_type": "display_data"
    },
    {
     "name": "stdout",
     "output_type": "stream",
     "text": [
      "<class 'geopandas.geodataframe.GeoDataFrame'>\n",
      "RangeIndex: 96 entries, 0 to 95\n",
      "Data columns (total 15 columns):\n",
      " #   Column                          Non-Null Count  Dtype              \n",
      "---  ------                          --------------  -----              \n",
      " 0   id                              96 non-null     object             \n",
      " 1   cd_identificador_distrito       96 non-null     int32              \n",
      " 2   cd_identificador_subprefeitura  96 non-null     int32              \n",
      " 3   cd_distrito_municipal           96 non-null     object             \n",
      " 4   nm_distrito_municipal           96 non-null     object             \n",
      " 5   sg_distrito_municipal           96 non-null     object             \n",
      " 6   tx_escala                       96 non-null     object             \n",
      " 7   sg_fonte_original               96 non-null     object             \n",
      " 8   dt_criacao                      96 non-null     datetime64[ms]     \n",
      " 9   dt_atualizacao                  96 non-null     datetime64[ms, UTC]\n",
      " 10  cd_usuario_atualizacao          0 non-null      object             \n",
      " 11  cd_tipo_discrepancia            96 non-null     int32              \n",
      " 12  qt_area_quilometro              96 non-null     float64            \n",
      " 13  qt_area_metro                   96 non-null     float64            \n",
      " 14  geometry                        96 non-null     geometry           \n",
      "dtypes: datetime64[ms, UTC](1), datetime64[ms](1), float64(2), geometry(1), int32(3), object(7)\n",
      "memory usage: 10.3+ KB\n"
     ]
    },
    {
     "data": {
      "text/plain": [
       "None"
      ]
     },
     "metadata": {},
     "output_type": "display_data"
    },
    {
     "data": {
      "text/plain": [
       "'\\nInformações da camada geoportal:subprefeitura:'"
      ]
     },
     "metadata": {},
     "output_type": "display_data"
    },
    {
     "name": "stdout",
     "output_type": "stream",
     "text": [
      "<class 'geopandas.geodataframe.GeoDataFrame'>\n",
      "RangeIndex: 32 entries, 0 to 31\n",
      "Data columns (total 14 columns):\n",
      " #   Column                          Non-Null Count  Dtype              \n",
      "---  ------                          --------------  -----              \n",
      " 0   id                              32 non-null     object             \n",
      " 1   cd_identificador_subprefeitura  32 non-null     int32              \n",
      " 2   cd_subprefeitura                32 non-null     object             \n",
      " 3   nm_subprefeitura                32 non-null     object             \n",
      " 4   tx_escala                       32 non-null     object             \n",
      " 5   sg_fonte_original               32 non-null     object             \n",
      " 6   dt_criacao                      32 non-null     datetime64[ms]     \n",
      " 7   cd_tipo_discrepancia            32 non-null     int32              \n",
      " 8   dt_atualizacao                  32 non-null     datetime64[ms, UTC]\n",
      " 9   cd_usuario_atualizacao          0 non-null      object             \n",
      " 10  sg_subprefeitura                32 non-null     object             \n",
      " 11  qt_area_quilometro              32 non-null     int32              \n",
      " 12  qt_area_metro                   32 non-null     int32              \n",
      " 13  geometry                        32 non-null     geometry           \n",
      "dtypes: datetime64[ms, UTC](1), datetime64[ms](1), geometry(1), int32(4), object(7)\n",
      "memory usage: 3.1+ KB\n"
     ]
    },
    {
     "data": {
      "text/plain": [
       "None"
      ]
     },
     "metadata": {},
     "output_type": "display_data"
    },
    {
     "data": {
      "image/png": "[encoded data removed]",
      "text/plain": [
       "<Figure size 640x480 with 1 Axes>"
      ]
     },
     "metadata": {},
     "output_type": "display_data"
    },
    {
     "data": {
      "image/png": "[encoded data removed]",
      "text/plain": [
       "<Figure size 640x480 with 1 Axes>"
      ]
     },
     "metadata": {},
     "output_type": "display_data"
    },
    {
     "data": {
      "image/png": "[encoded data removed]",
      "text/plain": [
       "<Figure size 640x480 with 1 Axes>"
      ]
     },
     "metadata": {},
     "output_type": "display_data"
    }
   ],
   "source": [
    "from owslib.wfs import WebFeatureService\n",
    "import geopandas as gpd\n",
    "\n",
    "# URL do serviço WFS\n",
    "wfs_url = 'http://wfs.geosampa.prefeitura.sp.gov.br/geoserver/geoportal/wfs'\n",
    "\n",
    "# Conectar ao WFS\n",
    "wfs = WebFeatureService(url=wfs_url, version='2.0.0')\n",
    "\n",
    "# Nomes das camadas que queremos obter\n",
    "layers = ['geoportal:quadricula_orto_2020', 'geoportal:distrito_municipal', 'geoportal:subprefeitura']\n",
    "\n",
    "# Função para obter GeoDataFrame a partir de uma camada WFS\n",
    "def get_gdf_from_wfs(layer_name):\n",
    "    response = wfs.getfeature(typename=layer_name, outputFormat='json')\n",
    "    gdf = gpd.read_file(response)\n",
    "    return gdf\n",
    "\n",
    "# Obter GeoDataFrames para cada camada\n",
    "gdfs = {layer: get_gdf_from_wfs(layer) for layer in layers}\n",
    "\n",
    "# Exibir informações e visualizar as camadas\n",
    "for layer, gdf in gdfs.items():\n",
    "    display(f\"\\nInformações da camada {layer}:\")\n",
    "    display(gdf.info())\n",
    "    gdf.plot()\n"
   ]
  },
  {
   "cell_type": "code",
   "execution_count": 29,
   "id": "e6c0c3eb-49c2-419b-bd89-1baa8f5a4137",
   "metadata": {},
   "outputs": [
    {
     "data": {
      "text/html": [
       "<div>\n",
       "<style scoped>\n",
       "    .dataframe tbody tr th:only-of-type {\n",
       "        vertical-align: middle;\n",
       "    }\n",
       "\n",
       "    .dataframe tbody tr th {\n",
       "        vertical-align: top;\n",
       "    }\n",
       "\n",
       "    .dataframe thead th {\n",
       "        text-align: right;\n",
       "    }\n",
       "</style>\n",
       "<table border=\"1\" class=\"dataframe\">\n",
       "  <thead>\n",
       "    <tr style=\"text-align: right;\">\n",
       "      <th></th>\n",
       "      <th>id</th>\n",
       "      <th>cd_identificador_distrito</th>\n",
       "      <th>cd_identificador_subprefeitura</th>\n",
       "      <th>cd_distrito_municipal</th>\n",
       "      <th>nm_distrito_municipal</th>\n",
       "      <th>sg_distrito_municipal</th>\n",
       "      <th>tx_escala</th>\n",
       "      <th>sg_fonte_original</th>\n",
       "      <th>dt_criacao</th>\n",
       "      <th>dt_atualizacao</th>\n",
       "      <th>cd_usuario_atualizacao</th>\n",
       "      <th>cd_tipo_discrepancia</th>\n",
       "      <th>qt_area_quilometro</th>\n",
       "      <th>qt_area_metro</th>\n",
       "      <th>geometry</th>\n",
       "    </tr>\n",
       "  </thead>\n",
       "  <tbody>\n",
       "    <tr>\n",
       "      <th>0</th>\n",
       "      <td>distrito_municipal.8583394</td>\n",
       "      <td>8583394</td>\n",
       "      <td>5</td>\n",
       "      <td>51</td>\n",
       "      <td>MANDAQUI</td>\n",
       "      <td>MAN</td>\n",
       "      <td>1:5000</td>\n",
       "      <td>GEOGSG</td>\n",
       "      <td>2023-11-30</td>\n",
       "      <td>2023-11-30 03:00:00+00:00</td>\n",
       "      <td>None</td>\n",
       "      <td>199299399</td>\n",
       "      <td>13.248</td>\n",
       "      <td>1.324786e+07</td>\n",
       "      <td>POLYGON ((330950.373 7407837.176, 330952.177 7...</td>\n",
       "    </tr>\n",
       "    <tr>\n",
       "      <th>1</th>\n",
       "      <td>distrito_municipal.8583395</td>\n",
       "      <td>8583395</td>\n",
       "      <td>20</td>\n",
       "      <td>52</td>\n",
       "      <td>MARSILAC</td>\n",
       "      <td>MAR</td>\n",
       "      <td>1:5000</td>\n",
       "      <td>GEOGSG</td>\n",
       "      <td>2023-11-30</td>\n",
       "      <td>2023-11-30 03:00:00+00:00</td>\n",
       "      <td>None</td>\n",
       "      <td>199299399</td>\n",
       "      <td>208.196</td>\n",
       "      <td>2.081957e+08</td>\n",
       "      <td>POLYGON ((336124.09 7355302.282, 336121.755 73...</td>\n",
       "    </tr>\n",
       "    <tr>\n",
       "      <th>2</th>\n",
       "      <td>distrito_municipal.8583396</td>\n",
       "      <td>8583396</td>\n",
       "      <td>12</td>\n",
       "      <td>32</td>\n",
       "      <td>MOEMA</td>\n",
       "      <td>MOE</td>\n",
       "      <td>1:5000</td>\n",
       "      <td>GEOGSG</td>\n",
       "      <td>2023-11-30</td>\n",
       "      <td>2023-11-30 03:00:00+00:00</td>\n",
       "      <td>None</td>\n",
       "      <td>199299399</td>\n",
       "      <td>9.080</td>\n",
       "      <td>9.079516e+06</td>\n",
       "      <td>POLYGON ((331242.174 7392162.324, 331244.581 7...</td>\n",
       "    </tr>\n",
       "    <tr>\n",
       "      <th>3</th>\n",
       "      <td>distrito_municipal.8583445</td>\n",
       "      <td>8583445</td>\n",
       "      <td>21</td>\n",
       "      <td>5</td>\n",
       "      <td>ARTUR ALVIM</td>\n",
       "      <td>AAL</td>\n",
       "      <td>1:5000</td>\n",
       "      <td>GEOGSG</td>\n",
       "      <td>2023-11-30</td>\n",
       "      <td>2023-11-30 03:00:00+00:00</td>\n",
       "      <td>None</td>\n",
       "      <td>199299399</td>\n",
       "      <td>6.508</td>\n",
       "      <td>6.508361e+06</td>\n",
       "      <td>POLYGON ((349416.226 7397718.808, 349416.884 7...</td>\n",
       "    </tr>\n",
       "    <tr>\n",
       "      <th>4</th>\n",
       "      <td>distrito_municipal.8583472</td>\n",
       "      <td>8583472</td>\n",
       "      <td>30</td>\n",
       "      <td>33</td>\n",
       "      <td>IGUATEMI</td>\n",
       "      <td>IGU</td>\n",
       "      <td>1:5000</td>\n",
       "      <td>GEOGSG</td>\n",
       "      <td>2023-11-30</td>\n",
       "      <td>2023-11-30 03:00:00+00:00</td>\n",
       "      <td>None</td>\n",
       "      <td>199299399</td>\n",
       "      <td>19.584</td>\n",
       "      <td>1.958356e+07</td>\n",
       "      <td>POLYGON ((350859.949 7389599.855, 350880.182 7...</td>\n",
       "    </tr>\n",
       "  </tbody>\n",
       "</table>\n",
       "</div>"
      ],
      "text/plain": [
       "                           id  cd_identificador_distrito  \\\n",
       "0  distrito_municipal.8583394                    8583394   \n",
       "1  distrito_municipal.8583395                    8583395   \n",
       "2  distrito_municipal.8583396                    8583396   \n",
       "3  distrito_municipal.8583445                    8583445   \n",
       "4  distrito_municipal.8583472                    8583472   \n",
       "\n",
       "   cd_identificador_subprefeitura cd_distrito_municipal nm_distrito_municipal  \\\n",
       "0                               5                    51              MANDAQUI   \n",
       "1                              20                    52              MARSILAC   \n",
       "2                              12                    32                 MOEMA   \n",
       "3                              21                     5           ARTUR ALVIM   \n",
       "4                              30                    33              IGUATEMI   \n",
       "\n",
       "  sg_distrito_municipal tx_escala sg_fonte_original dt_criacao  \\\n",
       "0                   MAN    1:5000            GEOGSG 2023-11-30   \n",
       "1                   MAR    1:5000            GEOGSG 2023-11-30   \n",
       "2                   MOE    1:5000            GEOGSG 2023-11-30   \n",
       "3                   AAL    1:5000            GEOGSG 2023-11-30   \n",
       "4                   IGU    1:5000            GEOGSG 2023-11-30   \n",
       "\n",
       "             dt_atualizacao cd_usuario_atualizacao  cd_tipo_discrepancia  \\\n",
       "0 2023-11-30 03:00:00+00:00                   None             199299399   \n",
       "1 2023-11-30 03:00:00+00:00                   None             199299399   \n",
       "2 2023-11-30 03:00:00+00:00                   None             199299399   \n",
       "3 2023-11-30 03:00:00+00:00                   None             199299399   \n",
       "4 2023-11-30 03:00:00+00:00                   None             199299399   \n",
       "\n",
       "   qt_area_quilometro  qt_area_metro  \\\n",
       "0              13.248   1.324786e+07   \n",
       "1             208.196   2.081957e+08   \n",
       "2               9.080   9.079516e+06   \n",
       "3               6.508   6.508361e+06   \n",
       "4              19.584   1.958356e+07   \n",
       "\n",
       "                                            geometry  \n",
       "0  POLYGON ((330950.373 7407837.176, 330952.177 7...  \n",
       "1  POLYGON ((336124.09 7355302.282, 336121.755 73...  \n",
       "2  POLYGON ((331242.174 7392162.324, 331244.581 7...  \n",
       "3  POLYGON ((349416.226 7397718.808, 349416.884 7...  \n",
       "4  POLYGON ((350859.949 7389599.855, 350880.182 7...  "
      ]
     },
     "execution_count": 29,
     "metadata": {},
     "output_type": "execute_result"
    }
   ],
   "source": [
    "# Obter GeoDataFrames para cada camada\n",
    "gdf_quadriculas = get_gdf_from_wfs('geoportal:quadricula_orto_2020')\n",
    "gdf_distritos = get_gdf_from_wfs('geoportal:distrito_municipal')\n",
    "\n",
    "# Exibir informações das camadas\n",
    "gdf_distritos.head()"
   ]
  },
  {
   "cell_type": "code",
   "execution_count": 32,
   "id": "9ebf4b08-9787-473b-a324-7aea0ce6df9e",
   "metadata": {},
   "outputs": [
    {
     "data": {
      "text/html": [
       "<div>\n",
       "<style scoped>\n",
       "    .dataframe tbody tr th:only-of-type {\n",
       "        vertical-align: middle;\n",
       "    }\n",
       "\n",
       "    .dataframe tbody tr th {\n",
       "        vertical-align: top;\n",
       "    }\n",
       "\n",
       "    .dataframe thead th {\n",
       "        text-align: right;\n",
       "    }\n",
       "</style>\n",
       "<table border=\"1\" class=\"dataframe\">\n",
       "  <thead>\n",
       "    <tr style=\"text-align: right;\">\n",
       "      <th></th>\n",
       "      <th>id</th>\n",
       "      <th>cd_identificador</th>\n",
       "      <th>cd_quadricula</th>\n",
       "      <th>cd_levantamento</th>\n",
       "      <th>cd_escala_quadricula</th>\n",
       "      <th>geometry</th>\n",
       "    </tr>\n",
       "  </thead>\n",
       "  <tbody>\n",
       "    <tr>\n",
       "      <th>0</th>\n",
       "      <td>quadricula_orto_2020.118742</td>\n",
       "      <td>118742</td>\n",
       "      <td>3326-261</td>\n",
       "      <td>32</td>\n",
       "      <td>1:1000</td>\n",
       "      <td>POLYGON ((345889.365 7389359.871, 345883.277 7...</td>\n",
       "    </tr>\n",
       "    <tr>\n",
       "      <th>1</th>\n",
       "      <td>quadricula_orto_2020.118743</td>\n",
       "      <td>118743</td>\n",
       "      <td>3326-252</td>\n",
       "      <td>32</td>\n",
       "      <td>1:1000</td>\n",
       "      <td>POLYGON ((345357.864 7389354.251, 345351.756 7...</td>\n",
       "    </tr>\n",
       "    <tr>\n",
       "      <th>2</th>\n",
       "      <td>quadricula_orto_2020.118744</td>\n",
       "      <td>118744</td>\n",
       "      <td>3326-251</td>\n",
       "      <td>32</td>\n",
       "      <td>1:1000</td>\n",
       "      <td>POLYGON ((344826.363 7389348.611, 344820.233 7...</td>\n",
       "    </tr>\n",
       "    <tr>\n",
       "      <th>3</th>\n",
       "      <td>quadricula_orto_2020.118745</td>\n",
       "      <td>118745</td>\n",
       "      <td>3326-242</td>\n",
       "      <td>32</td>\n",
       "      <td>1:1000</td>\n",
       "      <td>POLYGON ((344294.86 7389342.952, 344288.71 738...</td>\n",
       "    </tr>\n",
       "    <tr>\n",
       "      <th>4</th>\n",
       "      <td>quadricula_orto_2020.118746</td>\n",
       "      <td>118746</td>\n",
       "      <td>3326-241</td>\n",
       "      <td>32</td>\n",
       "      <td>1:1000</td>\n",
       "      <td>POLYGON ((343763.357 7389337.274, 343757.185 7...</td>\n",
       "    </tr>\n",
       "  </tbody>\n",
       "</table>\n",
       "</div>"
      ],
      "text/plain": [
       "                            id  cd_identificador cd_quadricula  \\\n",
       "0  quadricula_orto_2020.118742            118742      3326-261   \n",
       "1  quadricula_orto_2020.118743            118743      3326-252   \n",
       "2  quadricula_orto_2020.118744            118744      3326-251   \n",
       "3  quadricula_orto_2020.118745            118745      3326-242   \n",
       "4  quadricula_orto_2020.118746            118746      3326-241   \n",
       "\n",
       "   cd_levantamento cd_escala_quadricula  \\\n",
       "0               32               1:1000   \n",
       "1               32               1:1000   \n",
       "2               32               1:1000   \n",
       "3               32               1:1000   \n",
       "4               32               1:1000   \n",
       "\n",
       "                                            geometry  \n",
       "0  POLYGON ((345889.365 7389359.871, 345883.277 7...  \n",
       "1  POLYGON ((345357.864 7389354.251, 345351.756 7...  \n",
       "2  POLYGON ((344826.363 7389348.611, 344820.233 7...  \n",
       "3  POLYGON ((344294.86 7389342.952, 344288.71 738...  \n",
       "4  POLYGON ((343763.357 7389337.274, 343757.185 7...  "
      ]
     },
     "execution_count": 32,
     "metadata": {},
     "output_type": "execute_result"
    }
   ],
   "source": [
    "# Exibir informações das camadas\n",
    "gdf_quadriculas.head()\n"
   ]
  },
  {
   "cell_type": "code",
   "execution_count": 49,
   "id": "efe60467-dc80-4b20-8d08-782eaaf5b59c",
   "metadata": {},
   "outputs": [
    {
     "data": {
      "text/plain": [
       "\"44 Quadriculas dentro do distrito 'VILA MATILDE':\""
      ]
     },
     "metadata": {},
     "output_type": "display_data"
    },
    {
     "data": {
      "text/html": [
       "<div>\n",
       "<style scoped>\n",
       "    .dataframe tbody tr th:only-of-type {\n",
       "        vertical-align: middle;\n",
       "    }\n",
       "\n",
       "    .dataframe tbody tr th {\n",
       "        vertical-align: top;\n",
       "    }\n",
       "\n",
       "    .dataframe thead th {\n",
       "        text-align: right;\n",
       "    }\n",
       "</style>\n",
       "<table border=\"1\" class=\"dataframe\">\n",
       "  <thead>\n",
       "    <tr style=\"text-align: right;\">\n",
       "      <th></th>\n",
       "      <th>id</th>\n",
       "      <th>cd_identificador</th>\n",
       "      <th>cd_quadricula</th>\n",
       "      <th>cd_levantamento</th>\n",
       "      <th>cd_escala_quadricula</th>\n",
       "      <th>geometry</th>\n",
       "    </tr>\n",
       "  </thead>\n",
       "  <tbody>\n",
       "    <tr>\n",
       "      <th>2071</th>\n",
       "      <td>quadricula_orto_2020.117743</td>\n",
       "      <td>117743</td>\n",
       "      <td>3322-434</td>\n",
       "      <td>32</td>\n",
       "      <td>1:1000</td>\n",
       "      <td>POLYGON ((346342.1 7396863.077, 346336.05 7397...</td>\n",
       "    </tr>\n",
       "    <tr>\n",
       "      <th>2072</th>\n",
       "      <td>quadricula_orto_2020.117744</td>\n",
       "      <td>117744</td>\n",
       "      <td>3322-433</td>\n",
       "      <td>32</td>\n",
       "      <td>1:1000</td>\n",
       "      <td>POLYGON ((345810.327 7396857.488, 345804.256 7...</td>\n",
       "    </tr>\n",
       "    <tr>\n",
       "      <th>2073</th>\n",
       "      <td>quadricula_orto_2020.117745</td>\n",
       "      <td>117745</td>\n",
       "      <td>3322-424</td>\n",
       "      <td>32</td>\n",
       "      <td>1:1000</td>\n",
       "      <td>POLYGON ((345278.554 7396851.88, 345272.462 73...</td>\n",
       "    </tr>\n",
       "    <tr>\n",
       "      <th>2074</th>\n",
       "      <td>quadricula_orto_2020.117746</td>\n",
       "      <td>117746</td>\n",
       "      <td>3322-423</td>\n",
       "      <td>32</td>\n",
       "      <td>1:1000</td>\n",
       "      <td>POLYGON ((344746.78 7396846.253, 344740.667 73...</td>\n",
       "    </tr>\n",
       "    <tr>\n",
       "      <th>2075</th>\n",
       "      <td>quadricula_orto_2020.117747</td>\n",
       "      <td>117747</td>\n",
       "      <td>3322-414</td>\n",
       "      <td>32</td>\n",
       "      <td>1:1000</td>\n",
       "      <td>POLYGON ((344215.004 7396840.607, 344208.871 7...</td>\n",
       "    </tr>\n",
       "    <tr>\n",
       "      <th>2142</th>\n",
       "      <td>quadricula_orto_2020.117814</td>\n",
       "      <td>117814</td>\n",
       "      <td>4311-341</td>\n",
       "      <td>32</td>\n",
       "      <td>1:1000</td>\n",
       "      <td>POLYGON ((346879.902 7396291.91, 346873.872 73...</td>\n",
       "    </tr>\n",
       "    <tr>\n",
       "      <th>2143</th>\n",
       "      <td>quadricula_orto_2020.117815</td>\n",
       "      <td>117815</td>\n",
       "      <td>3322-462</td>\n",
       "      <td>32</td>\n",
       "      <td>1:1000</td>\n",
       "      <td>POLYGON ((346348.151 7396286.34, 346342.1 7396...</td>\n",
       "    </tr>\n",
       "    <tr>\n",
       "      <th>2144</th>\n",
       "      <td>quadricula_orto_2020.117816</td>\n",
       "      <td>117816</td>\n",
       "      <td>3322-461</td>\n",
       "      <td>32</td>\n",
       "      <td>1:1000</td>\n",
       "      <td>POLYGON ((345816.4 7396280.75, 345810.327 7396...</td>\n",
       "    </tr>\n",
       "    <tr>\n",
       "      <th>2145</th>\n",
       "      <td>quadricula_orto_2020.117817</td>\n",
       "      <td>117817</td>\n",
       "      <td>3322-452</td>\n",
       "      <td>32</td>\n",
       "      <td>1:1000</td>\n",
       "      <td>POLYGON ((345284.647 7396275.142, 345278.554 7...</td>\n",
       "    </tr>\n",
       "    <tr>\n",
       "      <th>2146</th>\n",
       "      <td>quadricula_orto_2020.117818</td>\n",
       "      <td>117818</td>\n",
       "      <td>3322-451</td>\n",
       "      <td>32</td>\n",
       "      <td>1:1000</td>\n",
       "      <td>POLYGON ((344752.894 7396269.514, 344746.78 73...</td>\n",
       "    </tr>\n",
       "    <tr>\n",
       "      <th>2147</th>\n",
       "      <td>quadricula_orto_2020.117819</td>\n",
       "      <td>117819</td>\n",
       "      <td>3322-442</td>\n",
       "      <td>32</td>\n",
       "      <td>1:1000</td>\n",
       "      <td>POLYGON ((344221.139 7396263.866, 344215.004 7...</td>\n",
       "    </tr>\n",
       "    <tr>\n",
       "      <th>2148</th>\n",
       "      <td>quadricula_orto_2020.117820</td>\n",
       "      <td>117820</td>\n",
       "      <td>3322-441</td>\n",
       "      <td>32</td>\n",
       "      <td>1:1000</td>\n",
       "      <td>POLYGON ((343689.384 7396258.199, 343683.228 7...</td>\n",
       "    </tr>\n",
       "    <tr>\n",
       "      <th>2149</th>\n",
       "      <td>quadricula_orto_2020.117821</td>\n",
       "      <td>117821</td>\n",
       "      <td>3322-362</td>\n",
       "      <td>32</td>\n",
       "      <td>1:1000</td>\n",
       "      <td>POLYGON ((343157.628 7396252.513, 343151.451 7...</td>\n",
       "    </tr>\n",
       "    <tr>\n",
       "      <th>2150</th>\n",
       "      <td>quadricula_orto_2020.117822</td>\n",
       "      <td>117822</td>\n",
       "      <td>3322-361</td>\n",
       "      <td>32</td>\n",
       "      <td>1:1000</td>\n",
       "      <td>POLYGON ((342625.871 7396246.808, 342619.673 7...</td>\n",
       "    </tr>\n",
       "    <tr>\n",
       "      <th>2151</th>\n",
       "      <td>quadricula_orto_2020.117823</td>\n",
       "      <td>117823</td>\n",
       "      <td>3322-352</td>\n",
       "      <td>32</td>\n",
       "      <td>1:1000</td>\n",
       "      <td>POLYGON ((342094.114 7396241.083, 342087.895 7...</td>\n",
       "    </tr>\n",
       "    <tr>\n",
       "      <th>2152</th>\n",
       "      <td>quadricula_orto_2020.117824</td>\n",
       "      <td>117824</td>\n",
       "      <td>3322-351</td>\n",
       "      <td>32</td>\n",
       "      <td>1:1000</td>\n",
       "      <td>POLYGON ((341562.355 7396235.339, 341556.115 7...</td>\n",
       "    </tr>\n",
       "    <tr>\n",
       "      <th>2215</th>\n",
       "      <td>quadricula_orto_2020.117887</td>\n",
       "      <td>117887</td>\n",
       "      <td>4311-343</td>\n",
       "      <td>32</td>\n",
       "      <td>1:1000</td>\n",
       "      <td>POLYGON ((346885.933 7395715.174, 346879.902 7...</td>\n",
       "    </tr>\n",
       "    <tr>\n",
       "      <th>2216</th>\n",
       "      <td>quadricula_orto_2020.117888</td>\n",
       "      <td>117888</td>\n",
       "      <td>3322-464</td>\n",
       "      <td>32</td>\n",
       "      <td>1:1000</td>\n",
       "      <td>POLYGON ((346354.204 7395709.603, 346348.151 7...</td>\n",
       "    </tr>\n",
       "    <tr>\n",
       "      <th>2217</th>\n",
       "      <td>quadricula_orto_2020.117889</td>\n",
       "      <td>117889</td>\n",
       "      <td>3322-463</td>\n",
       "      <td>32</td>\n",
       "      <td>1:1000</td>\n",
       "      <td>POLYGON ((345822.473 7395704.012, 345816.4 739...</td>\n",
       "    </tr>\n",
       "    <tr>\n",
       "      <th>2218</th>\n",
       "      <td>quadricula_orto_2020.117890</td>\n",
       "      <td>117890</td>\n",
       "      <td>3322-454</td>\n",
       "      <td>32</td>\n",
       "      <td>1:1000</td>\n",
       "      <td>POLYGON ((345290.741 7395698.403, 345284.647 7...</td>\n",
       "    </tr>\n",
       "    <tr>\n",
       "      <th>2219</th>\n",
       "      <td>quadricula_orto_2020.117891</td>\n",
       "      <td>117891</td>\n",
       "      <td>3322-453</td>\n",
       "      <td>32</td>\n",
       "      <td>1:1000</td>\n",
       "      <td>POLYGON ((344759.009 7395692.774, 344752.894 7...</td>\n",
       "    </tr>\n",
       "    <tr>\n",
       "      <th>2220</th>\n",
       "      <td>quadricula_orto_2020.117892</td>\n",
       "      <td>117892</td>\n",
       "      <td>3322-444</td>\n",
       "      <td>32</td>\n",
       "      <td>1:1000</td>\n",
       "      <td>POLYGON ((344227.276 7395687.125, 344221.139 7...</td>\n",
       "    </tr>\n",
       "    <tr>\n",
       "      <th>2221</th>\n",
       "      <td>quadricula_orto_2020.117893</td>\n",
       "      <td>117893</td>\n",
       "      <td>3322-443</td>\n",
       "      <td>32</td>\n",
       "      <td>1:1000</td>\n",
       "      <td>POLYGON ((343695.542 7395681.458, 343689.384 7...</td>\n",
       "    </tr>\n",
       "    <tr>\n",
       "      <th>2222</th>\n",
       "      <td>quadricula_orto_2020.117894</td>\n",
       "      <td>117894</td>\n",
       "      <td>3322-364</td>\n",
       "      <td>32</td>\n",
       "      <td>1:1000</td>\n",
       "      <td>POLYGON ((343163.807 7395675.771, 343157.628 7...</td>\n",
       "    </tr>\n",
       "    <tr>\n",
       "      <th>2223</th>\n",
       "      <td>quadricula_orto_2020.117895</td>\n",
       "      <td>117895</td>\n",
       "      <td>3322-363</td>\n",
       "      <td>32</td>\n",
       "      <td>1:1000</td>\n",
       "      <td>POLYGON ((342632.071 7395670.064, 342625.871 7...</td>\n",
       "    </tr>\n",
       "    <tr>\n",
       "      <th>2224</th>\n",
       "      <td>quadricula_orto_2020.117896</td>\n",
       "      <td>117896</td>\n",
       "      <td>3322-354</td>\n",
       "      <td>32</td>\n",
       "      <td>1:1000</td>\n",
       "      <td>POLYGON ((342100.334 7395664.338, 342094.114 7...</td>\n",
       "    </tr>\n",
       "    <tr>\n",
       "      <th>2225</th>\n",
       "      <td>quadricula_orto_2020.117897</td>\n",
       "      <td>117897</td>\n",
       "      <td>3322-353</td>\n",
       "      <td>32</td>\n",
       "      <td>1:1000</td>\n",
       "      <td>POLYGON ((341568.596 7395658.593, 341562.355 7...</td>\n",
       "    </tr>\n",
       "    <tr>\n",
       "      <th>2287</th>\n",
       "      <td>quadricula_orto_2020.117959</td>\n",
       "      <td>117959</td>\n",
       "      <td>4313-112</td>\n",
       "      <td>32</td>\n",
       "      <td>1:1000</td>\n",
       "      <td>POLYGON ((347423.674 7395143.99, 347417.662 73...</td>\n",
       "    </tr>\n",
       "    <tr>\n",
       "      <th>2288</th>\n",
       "      <td>quadricula_orto_2020.117960</td>\n",
       "      <td>117960</td>\n",
       "      <td>4313-111</td>\n",
       "      <td>32</td>\n",
       "      <td>1:1000</td>\n",
       "      <td>POLYGON ((346891.966 7395138.438, 346885.933 7...</td>\n",
       "    </tr>\n",
       "    <tr>\n",
       "      <th>2289</th>\n",
       "      <td>quadricula_orto_2020.117961</td>\n",
       "      <td>117961</td>\n",
       "      <td>3324-232</td>\n",
       "      <td>32</td>\n",
       "      <td>1:1000</td>\n",
       "      <td>POLYGON ((346360.257 7395132.866, 346354.204 7...</td>\n",
       "    </tr>\n",
       "    <tr>\n",
       "      <th>2290</th>\n",
       "      <td>quadricula_orto_2020.117962</td>\n",
       "      <td>117962</td>\n",
       "      <td>3324-231</td>\n",
       "      <td>32</td>\n",
       "      <td>1:1000</td>\n",
       "      <td>POLYGON ((345828.548 7395127.274, 345822.473 7...</td>\n",
       "    </tr>\n",
       "    <tr>\n",
       "      <th>2291</th>\n",
       "      <td>quadricula_orto_2020.117963</td>\n",
       "      <td>117963</td>\n",
       "      <td>3324-222</td>\n",
       "      <td>32</td>\n",
       "      <td>1:1000</td>\n",
       "      <td>POLYGON ((345296.837 7395121.663, 345290.741 7...</td>\n",
       "    </tr>\n",
       "    <tr>\n",
       "      <th>2292</th>\n",
       "      <td>quadricula_orto_2020.117964</td>\n",
       "      <td>117964</td>\n",
       "      <td>3324-221</td>\n",
       "      <td>32</td>\n",
       "      <td>1:1000</td>\n",
       "      <td>POLYGON ((344765.126 7395116.033, 344759.009 7...</td>\n",
       "    </tr>\n",
       "    <tr>\n",
       "      <th>2293</th>\n",
       "      <td>quadricula_orto_2020.117965</td>\n",
       "      <td>117965</td>\n",
       "      <td>3324-212</td>\n",
       "      <td>32</td>\n",
       "      <td>1:1000</td>\n",
       "      <td>POLYGON ((344233.413 7395110.384, 344227.276 7...</td>\n",
       "    </tr>\n",
       "    <tr>\n",
       "      <th>2294</th>\n",
       "      <td>quadricula_orto_2020.117966</td>\n",
       "      <td>117966</td>\n",
       "      <td>3324-211</td>\n",
       "      <td>32</td>\n",
       "      <td>1:1000</td>\n",
       "      <td>POLYGON ((343701.7 7395104.715, 343695.542 739...</td>\n",
       "    </tr>\n",
       "    <tr>\n",
       "      <th>2295</th>\n",
       "      <td>quadricula_orto_2020.117967</td>\n",
       "      <td>117967</td>\n",
       "      <td>3324-132</td>\n",
       "      <td>32</td>\n",
       "      <td>1:1000</td>\n",
       "      <td>POLYGON ((343169.986 7395099.027, 343163.807 7...</td>\n",
       "    </tr>\n",
       "    <tr>\n",
       "      <th>2362</th>\n",
       "      <td>quadricula_orto_2020.118034</td>\n",
       "      <td>118034</td>\n",
       "      <td>3324-234</td>\n",
       "      <td>32</td>\n",
       "      <td>1:1000</td>\n",
       "      <td>POLYGON ((346366.312 7394556.128, 346360.257 7...</td>\n",
       "    </tr>\n",
       "    <tr>\n",
       "      <th>2363</th>\n",
       "      <td>quadricula_orto_2020.118035</td>\n",
       "      <td>118035</td>\n",
       "      <td>3324-233</td>\n",
       "      <td>32</td>\n",
       "      <td>1:1000</td>\n",
       "      <td>POLYGON ((345834.624 7394550.535, 345828.548 7...</td>\n",
       "    </tr>\n",
       "    <tr>\n",
       "      <th>2364</th>\n",
       "      <td>quadricula_orto_2020.118036</td>\n",
       "      <td>118036</td>\n",
       "      <td>3324-224</td>\n",
       "      <td>32</td>\n",
       "      <td>1:1000</td>\n",
       "      <td>POLYGON ((345302.934 7394544.924, 345296.837 7...</td>\n",
       "    </tr>\n",
       "    <tr>\n",
       "      <th>2365</th>\n",
       "      <td>quadricula_orto_2020.118037</td>\n",
       "      <td>118037</td>\n",
       "      <td>3324-223</td>\n",
       "      <td>32</td>\n",
       "      <td>1:1000</td>\n",
       "      <td>POLYGON ((344771.244 7394539.293, 344765.126 7...</td>\n",
       "    </tr>\n",
       "    <tr>\n",
       "      <th>2366</th>\n",
       "      <td>quadricula_orto_2020.118038</td>\n",
       "      <td>118038</td>\n",
       "      <td>3324-214</td>\n",
       "      <td>32</td>\n",
       "      <td>1:1000</td>\n",
       "      <td>POLYGON ((344239.552 7394533.643, 344233.413 7...</td>\n",
       "    </tr>\n",
       "    <tr>\n",
       "      <th>2367</th>\n",
       "      <td>quadricula_orto_2020.118039</td>\n",
       "      <td>118039</td>\n",
       "      <td>3324-213</td>\n",
       "      <td>32</td>\n",
       "      <td>1:1000</td>\n",
       "      <td>POLYGON ((343707.86 7394527.973, 343701.7 7395...</td>\n",
       "    </tr>\n",
       "    <tr>\n",
       "      <th>2435</th>\n",
       "      <td>quadricula_orto_2020.118107</td>\n",
       "      <td>118107</td>\n",
       "      <td>3324-252</td>\n",
       "      <td>32</td>\n",
       "      <td>1:1000</td>\n",
       "      <td>POLYGON ((345309.032 7393968.184, 345302.934 7...</td>\n",
       "    </tr>\n",
       "    <tr>\n",
       "      <th>2436</th>\n",
       "      <td>quadricula_orto_2020.118108</td>\n",
       "      <td>118108</td>\n",
       "      <td>3324-251</td>\n",
       "      <td>32</td>\n",
       "      <td>1:1000</td>\n",
       "      <td>POLYGON ((344777.363 7393962.552, 344771.244 7...</td>\n",
       "    </tr>\n",
       "  </tbody>\n",
       "</table>\n",
       "</div>"
      ],
      "text/plain": [
       "                               id  cd_identificador cd_quadricula  \\\n",
       "2071  quadricula_orto_2020.117743            117743      3322-434   \n",
       "2072  quadricula_orto_2020.117744            117744      3322-433   \n",
       "2073  quadricula_orto_2020.117745            117745      3322-424   \n",
       "2074  quadricula_orto_2020.117746            117746      3322-423   \n",
       "2075  quadricula_orto_2020.117747            117747      3322-414   \n",
       "2142  quadricula_orto_2020.117814            117814      4311-341   \n",
       "2143  quadricula_orto_2020.117815            117815      3322-462   \n",
       "2144  quadricula_orto_2020.117816            117816      3322-461   \n",
       "2145  quadricula_orto_2020.117817            117817      3322-452   \n",
       "2146  quadricula_orto_2020.117818            117818      3322-451   \n",
       "2147  quadricula_orto_2020.117819            117819      3322-442   \n",
       "2148  quadricula_orto_2020.117820            117820      3322-441   \n",
       "2149  quadricula_orto_2020.117821            117821      3322-362   \n",
       "2150  quadricula_orto_2020.117822            117822      3322-361   \n",
       "2151  quadricula_orto_2020.117823            117823      3322-352   \n",
       "2152  quadricula_orto_2020.117824            117824      3322-351   \n",
       "2215  quadricula_orto_2020.117887            117887      4311-343   \n",
       "2216  quadricula_orto_2020.117888            117888      3322-464   \n",
       "2217  quadricula_orto_2020.117889            117889      3322-463   \n",
       "2218  quadricula_orto_2020.117890            117890      3322-454   \n",
       "2219  quadricula_orto_2020.117891            117891      3322-453   \n",
       "2220  quadricula_orto_2020.117892            117892      3322-444   \n",
       "2221  quadricula_orto_2020.117893            117893      3322-443   \n",
       "2222  quadricula_orto_2020.117894            117894      3322-364   \n",
       "2223  quadricula_orto_2020.117895            117895      3322-363   \n",
       "2224  quadricula_orto_2020.117896            117896      3322-354   \n",
       "2225  quadricula_orto_2020.117897            117897      3322-353   \n",
       "2287  quadricula_orto_2020.117959            117959      4313-112   \n",
       "2288  quadricula_orto_2020.117960            117960      4313-111   \n",
       "2289  quadricula_orto_2020.117961            117961      3324-232   \n",
       "2290  quadricula_orto_2020.117962            117962      3324-231   \n",
       "2291  quadricula_orto_2020.117963            117963      3324-222   \n",
       "2292  quadricula_orto_2020.117964            117964      3324-221   \n",
       "2293  quadricula_orto_2020.117965            117965      3324-212   \n",
       "2294  quadricula_orto_2020.117966            117966      3324-211   \n",
       "2295  quadricula_orto_2020.117967            117967      3324-132   \n",
       "2362  quadricula_orto_2020.118034            118034      3324-234   \n",
       "2363  quadricula_orto_2020.118035            118035      3324-233   \n",
       "2364  quadricula_orto_2020.118036            118036      3324-224   \n",
       "2365  quadricula_orto_2020.118037            118037      3324-223   \n",
       "2366  quadricula_orto_2020.118038            118038      3324-214   \n",
       "2367  quadricula_orto_2020.118039            118039      3324-213   \n",
       "2435  quadricula_orto_2020.118107            118107      3324-252   \n",
       "2436  quadricula_orto_2020.118108            118108      3324-251   \n",
       "\n",
       "      cd_levantamento cd_escala_quadricula  \\\n",
       "2071               32               1:1000   \n",
       "2072               32               1:1000   \n",
       "2073               32               1:1000   \n",
       "2074               32               1:1000   \n",
       "2075               32               1:1000   \n",
       "2142               32               1:1000   \n",
       "2143               32               1:1000   \n",
       "2144               32               1:1000   \n",
       "2145               32               1:1000   \n",
       "2146               32               1:1000   \n",
       "2147               32               1:1000   \n",
       "2148               32               1:1000   \n",
       "2149               32               1:1000   \n",
       "2150               32               1:1000   \n",
       "2151               32               1:1000   \n",
       "2152               32               1:1000   \n",
       "2215               32               1:1000   \n",
       "2216               32               1:1000   \n",
       "2217               32               1:1000   \n",
       "2218               32               1:1000   \n",
       "2219               32               1:1000   \n",
       "2220               32               1:1000   \n",
       "2221               32               1:1000   \n",
       "2222               32               1:1000   \n",
       "2223               32               1:1000   \n",
       "2224               32               1:1000   \n",
       "2225               32               1:1000   \n",
       "2287               32               1:1000   \n",
       "2288               32               1:1000   \n",
       "2289               32               1:1000   \n",
       "2290               32               1:1000   \n",
       "2291               32               1:1000   \n",
       "2292               32               1:1000   \n",
       "2293               32               1:1000   \n",
       "2294               32               1:1000   \n",
       "2295               32               1:1000   \n",
       "2362               32               1:1000   \n",
       "2363               32               1:1000   \n",
       "2364               32               1:1000   \n",
       "2365               32               1:1000   \n",
       "2366               32               1:1000   \n",
       "2367               32               1:1000   \n",
       "2435               32               1:1000   \n",
       "2436               32               1:1000   \n",
       "\n",
       "                                               geometry  \n",
       "2071  POLYGON ((346342.1 7396863.077, 346336.05 7397...  \n",
       "2072  POLYGON ((345810.327 7396857.488, 345804.256 7...  \n",
       "2073  POLYGON ((345278.554 7396851.88, 345272.462 73...  \n",
       "2074  POLYGON ((344746.78 7396846.253, 344740.667 73...  \n",
       "2075  POLYGON ((344215.004 7396840.607, 344208.871 7...  \n",
       "2142  POLYGON ((346879.902 7396291.91, 346873.872 73...  \n",
       "2143  POLYGON ((346348.151 7396286.34, 346342.1 7396...  \n",
       "2144  POLYGON ((345816.4 7396280.75, 345810.327 7396...  \n",
       "2145  POLYGON ((345284.647 7396275.142, 345278.554 7...  \n",
       "2146  POLYGON ((344752.894 7396269.514, 344746.78 73...  \n",
       "2147  POLYGON ((344221.139 7396263.866, 344215.004 7...  \n",
       "2148  POLYGON ((343689.384 7396258.199, 343683.228 7...  \n",
       "2149  POLYGON ((343157.628 7396252.513, 343151.451 7...  \n",
       "2150  POLYGON ((342625.871 7396246.808, 342619.673 7...  \n",
       "2151  POLYGON ((342094.114 7396241.083, 342087.895 7...  \n",
       "2152  POLYGON ((341562.355 7396235.339, 341556.115 7...  \n",
       "2215  POLYGON ((346885.933 7395715.174, 346879.902 7...  \n",
       "2216  POLYGON ((346354.204 7395709.603, 346348.151 7...  \n",
       "2217  POLYGON ((345822.473 7395704.012, 345816.4 739...  \n",
       "2218  POLYGON ((345290.741 7395698.403, 345284.647 7...  \n",
       "2219  POLYGON ((344759.009 7395692.774, 344752.894 7...  \n",
       "2220  POLYGON ((344227.276 7395687.125, 344221.139 7...  \n",
       "2221  POLYGON ((343695.542 7395681.458, 343689.384 7...  \n",
       "2222  POLYGON ((343163.807 7395675.771, 343157.628 7...  \n",
       "2223  POLYGON ((342632.071 7395670.064, 342625.871 7...  \n",
       "2224  POLYGON ((342100.334 7395664.338, 342094.114 7...  \n",
       "2225  POLYGON ((341568.596 7395658.593, 341562.355 7...  \n",
       "2287  POLYGON ((347423.674 7395143.99, 347417.662 73...  \n",
       "2288  POLYGON ((346891.966 7395138.438, 346885.933 7...  \n",
       "2289  POLYGON ((346360.257 7395132.866, 346354.204 7...  \n",
       "2290  POLYGON ((345828.548 7395127.274, 345822.473 7...  \n",
       "2291  POLYGON ((345296.837 7395121.663, 345290.741 7...  \n",
       "2292  POLYGON ((344765.126 7395116.033, 344759.009 7...  \n",
       "2293  POLYGON ((344233.413 7395110.384, 344227.276 7...  \n",
       "2294  POLYGON ((343701.7 7395104.715, 343695.542 739...  \n",
       "2295  POLYGON ((343169.986 7395099.027, 343163.807 7...  \n",
       "2362  POLYGON ((346366.312 7394556.128, 346360.257 7...  \n",
       "2363  POLYGON ((345834.624 7394550.535, 345828.548 7...  \n",
       "2364  POLYGON ((345302.934 7394544.924, 345296.837 7...  \n",
       "2365  POLYGON ((344771.244 7394539.293, 344765.126 7...  \n",
       "2366  POLYGON ((344239.552 7394533.643, 344233.413 7...  \n",
       "2367  POLYGON ((343707.86 7394527.973, 343701.7 7395...  \n",
       "2435  POLYGON ((345309.032 7393968.184, 345302.934 7...  \n",
       "2436  POLYGON ((344777.363 7393962.552, 344771.244 7...  "
      ]
     },
     "metadata": {},
     "output_type": "display_data"
    },
    {
     "data": {
      "image/png": "[encoded data removed]",
      "text/plain": [
       "<Figure size 640x480 with 1 Axes>"
      ]
     },
     "metadata": {},
     "output_type": "display_data"
    }
   ],
   "source": [
    "# Nome do distrito que você quer filtrar\n",
    "distrito_nome = 'VILA MATILDE'  # Substitua pelo nome do distrito desejado\n",
    "\n",
    "# Filtrar o GeoDataFrame de distritos para o distrito específico\n",
    "distrito_selecionado = gdf_distritos[gdf_distritos['nm_distrito_municipal'] == distrito_nome]\n",
    "\n",
    "# Verificar se o distrito foi encontrado\n",
    "if distrito_selecionado.empty:\n",
    "    print(f\"Distrito '{distrito_nome}' não encontrado.\")\n",
    "else:\n",
    "    # Selecionar as quadrículas que estão dentro do distrito selecionado\n",
    "    quadriculas_selecionadas = gdf_quadriculas[gdf_quadriculas.intersects(distrito_selecionado.union_all())]\n",
    "\n",
    "    # Exibir as quadrículas selecionadas\n",
    "    display(f\"{quadriculas_selecionadas.shape[0]} Quadriculas dentro do distrito '{distrito_nome}':\")\n",
    "    display(quadriculas_selecionadas)\n",
    "\n",
    "    # Plotar o distrito e as quadrículas selecionadas\n",
    "    ax = distrito_selecionado.plot(color='blue', edgecolor='black', alpha=0.5)\n",
    "    quadriculas_selecionadas.plot(ax=ax, color='red', edgecolor='black', alpha=0.7)\n"
   ]
  },
  {
   "cell_type": "code",
   "execution_count": 56,
   "id": "37232af1-a025-4111-b5bf-46e209474e80",
   "metadata": {},
   "outputs": [],
   "source": [
    "# URLs de base para os downloads\n",
    "base_url_rgb = 'https://geosampa.prefeitura.sp.gov.br/PaginasPublicas/downloadArquivo.aspx?orig=DownloadMapaArticulacao&arq=ORTOFOTOS_2020_RGB%5C{}.zip&arqTipo=MAPA_ARTICULACAO'\n",
    "base_url_irgb = 'https://geosampa.prefeitura.sp.gov.br/PaginasPublicas/downloadArquivo.aspx?orig=DownloadMapaArticulacao&arq=ORTOFOTOS_2020_IrGB%5C{}.zip&arqTipo=MAPA_ARTICULACAO'\n",
    "    \n",
    "# Diretórios para salvar as imagens\n",
    "os.makedirs('downloads/rgb', exist_ok=True)\n",
    "os.makedirs('downloads/irgb', exist_ok=True)\n",
    "\n"
   ]
  },
  {
   "cell_type": "code",
   "execution_count": 57,
   "id": "a0e66171-6700-4c4d-9032-f62d22227a08",
   "metadata": {},
   "outputs": [],
   "source": [
    "#Função para efetuar o download dos arquivos\n",
    "def download_file(url, dest_path):\n",
    "    response = requests.get(url, stream=True)\n",
    "    total_size = int(response.headers.get('content-length', 0))\n",
    "    with open(dest_path, 'wb') as file, tqdm(\n",
    "        desc=dest_path.split('/')[-1],\n",
    "        total=total_size,\n",
    "        unit='iB',\n",
    "        unit_scale=True,\n",
    "        unit_divisor=1024,\n",
    "    ) as bar:\n",
    "        for data in response.iter_content(chunk_size=1024):\n",
    "            size = file.write(data)\n",
    "            bar.update(size)"
   ]
  },
  {
   "cell_type": "code",
   "execution_count": 58,
   "id": "af5a58b1-e890-4012-9696-9a095b096c10",
   "metadata": {},
   "outputs": [
    {
     "name": "stdout",
     "output_type": "stream",
     "text": [
      "Baixando quadrícula 3322-434 (RGB)...\n"
     ]
    },
    {
     "name": "stderr",
     "output_type": "stream",
     "text": [
      "3322-434.zip: 8.25MiB [00:03, 2.34MiB/s]\n"
     ]
    },
    {
     "name": "stdout",
     "output_type": "stream",
     "text": [
      "Baixando quadrícula 3322-434 (IrGB)...\n"
     ]
    },
    {
     "name": "stderr",
     "output_type": "stream",
     "text": [
      "3322-434.zip: 8.82MiB [00:02, 3.34MiB/s]\n"
     ]
    },
    {
     "name": "stdout",
     "output_type": "stream",
     "text": [
      "Baixando quadrícula 3322-433 (RGB)...\n"
     ]
    },
    {
     "name": "stderr",
     "output_type": "stream",
     "text": [
      "3322-433.zip: 8.91MiB [00:02, 3.60MiB/s]\n"
     ]
    },
    {
     "name": "stdout",
     "output_type": "stream",
     "text": [
      "Baixando quadrícula 3322-433 (IrGB)...\n"
     ]
    },
    {
     "name": "stderr",
     "output_type": "stream",
     "text": [
      "3322-433.zip: 9.14MiB [00:03, 2.47MiB/s]\n"
     ]
    },
    {
     "name": "stdout",
     "output_type": "stream",
     "text": [
      "Baixando quadrícula 3322-424 (RGB)...\n"
     ]
    },
    {
     "name": "stderr",
     "output_type": "stream",
     "text": [
      "3322-424.zip: 9.00MiB [00:04, 2.22MiB/s]\n"
     ]
    },
    {
     "name": "stdout",
     "output_type": "stream",
     "text": [
      "Baixando quadrícula 3322-424 (IrGB)...\n"
     ]
    },
    {
     "name": "stderr",
     "output_type": "stream",
     "text": [
      "3322-424.zip: 9.36MiB [00:03, 2.85MiB/s]\n"
     ]
    },
    {
     "name": "stdout",
     "output_type": "stream",
     "text": [
      "Baixando quadrícula 3322-423 (RGB)...\n"
     ]
    },
    {
     "name": "stderr",
     "output_type": "stream",
     "text": [
      "3322-423.zip: 8.66MiB [00:05, 1.76MiB/s]\n"
     ]
    },
    {
     "name": "stdout",
     "output_type": "stream",
     "text": [
      "Baixando quadrícula 3322-423 (IrGB)...\n"
     ]
    },
    {
     "name": "stderr",
     "output_type": "stream",
     "text": [
      "3322-423.zip: 9.20MiB [00:02, 3.47MiB/s]\n"
     ]
    },
    {
     "name": "stdout",
     "output_type": "stream",
     "text": [
      "Baixando quadrícula 3322-414 (RGB)...\n"
     ]
    },
    {
     "name": "stderr",
     "output_type": "stream",
     "text": [
      "3322-414.zip: 7.87MiB [00:02, 3.06MiB/s]\n"
     ]
    },
    {
     "name": "stdout",
     "output_type": "stream",
     "text": [
      "Baixando quadrícula 3322-414 (IrGB)...\n"
     ]
    },
    {
     "name": "stderr",
     "output_type": "stream",
     "text": [
      "3322-414.zip: 8.41MiB [00:04, 2.01MiB/s]\n"
     ]
    },
    {
     "name": "stdout",
     "output_type": "stream",
     "text": [
      "Baixando quadrícula 4311-341 (RGB)...\n"
     ]
    },
    {
     "name": "stderr",
     "output_type": "stream",
     "text": [
      "4311-341.zip: 8.46MiB [00:02, 3.40MiB/s]\n"
     ]
    },
    {
     "name": "stdout",
     "output_type": "stream",
     "text": [
      "Baixando quadrícula 4311-341 (IrGB)...\n"
     ]
    },
    {
     "name": "stderr",
     "output_type": "stream",
     "text": [
      "4311-341.zip: 9.15MiB [00:02, 3.77MiB/s]\n"
     ]
    },
    {
     "name": "stdout",
     "output_type": "stream",
     "text": [
      "Baixando quadrícula 3322-462 (RGB)...\n"
     ]
    },
    {
     "name": "stderr",
     "output_type": "stream",
     "text": [
      "3322-462.zip: 8.08MiB [00:03, 2.31MiB/s]\n"
     ]
    },
    {
     "name": "stdout",
     "output_type": "stream",
     "text": [
      "Baixando quadrícula 3322-462 (IrGB)...\n"
     ]
    },
    {
     "name": "stderr",
     "output_type": "stream",
     "text": [
      "3322-462.zip: 8.84MiB [00:03, 2.89MiB/s]\n"
     ]
    },
    {
     "name": "stdout",
     "output_type": "stream",
     "text": [
      "Baixando quadrícula 3322-461 (RGB)...\n"
     ]
    },
    {
     "name": "stderr",
     "output_type": "stream",
     "text": [
      "3322-461.zip: 9.70MiB [00:03, 3.31MiB/s]\n"
     ]
    },
    {
     "name": "stdout",
     "output_type": "stream",
     "text": [
      "Baixando quadrícula 3322-461 (IrGB)...\n"
     ]
    },
    {
     "name": "stderr",
     "output_type": "stream",
     "text": [
      "3322-461.zip: 10.1MiB [00:03, 3.27MiB/s]\n"
     ]
    },
    {
     "name": "stdout",
     "output_type": "stream",
     "text": [
      "Baixando quadrícula 3322-452 (RGB)...\n"
     ]
    },
    {
     "name": "stderr",
     "output_type": "stream",
     "text": [
      "3322-452.zip: 9.29MiB [00:07, 1.28MiB/s]\n"
     ]
    },
    {
     "name": "stdout",
     "output_type": "stream",
     "text": [
      "Baixando quadrícula 3322-452 (IrGB)...\n"
     ]
    },
    {
     "name": "stderr",
     "output_type": "stream",
     "text": [
      "3322-452.zip: 9.49MiB [00:05, 1.95MiB/s]\n"
     ]
    },
    {
     "name": "stdout",
     "output_type": "stream",
     "text": [
      "Baixando quadrícula 3322-451 (RGB)...\n"
     ]
    },
    {
     "name": "stderr",
     "output_type": "stream",
     "text": [
      "3322-451.zip: 9.04MiB [00:02, 3.26MiB/s]\n"
     ]
    },
    {
     "name": "stdout",
     "output_type": "stream",
     "text": [
      "Baixando quadrícula 3322-451 (IrGB)...\n"
     ]
    },
    {
     "name": "stderr",
     "output_type": "stream",
     "text": [
      "3322-451.zip: 9.41MiB [00:03, 2.98MiB/s]\n"
     ]
    },
    {
     "name": "stdout",
     "output_type": "stream",
     "text": [
      "Baixando quadrícula 3322-442 (RGB)...\n"
     ]
    },
    {
     "name": "stderr",
     "output_type": "stream",
     "text": [
      "3322-442.zip: 7.95MiB [00:02, 3.55MiB/s]\n"
     ]
    },
    {
     "name": "stdout",
     "output_type": "stream",
     "text": [
      "Baixando quadrícula 3322-442 (IrGB)...\n"
     ]
    },
    {
     "name": "stderr",
     "output_type": "stream",
     "text": [
      "3322-442.zip: 8.59MiB [00:02, 3.52MiB/s]\n"
     ]
    },
    {
     "name": "stdout",
     "output_type": "stream",
     "text": [
      "Baixando quadrícula 3322-441 (RGB)...\n"
     ]
    },
    {
     "name": "stderr",
     "output_type": "stream",
     "text": [
      "3322-441.zip: 7.71MiB [00:02, 3.77MiB/s]\n"
     ]
    },
    {
     "name": "stdout",
     "output_type": "stream",
     "text": [
      "Baixando quadrícula 3322-441 (IrGB)...\n"
     ]
    },
    {
     "name": "stderr",
     "output_type": "stream",
     "text": [
      "3322-441.zip: 8.10MiB [00:03, 2.78MiB/s]\n"
     ]
    },
    {
     "name": "stdout",
     "output_type": "stream",
     "text": [
      "Baixando quadrícula 3322-362 (RGB)...\n"
     ]
    },
    {
     "name": "stderr",
     "output_type": "stream",
     "text": [
      "3322-362.zip: 7.87MiB [00:03, 2.73MiB/s]\n"
     ]
    },
    {
     "name": "stdout",
     "output_type": "stream",
     "text": [
      "Baixando quadrícula 3322-362 (IrGB)...\n"
     ]
    },
    {
     "name": "stderr",
     "output_type": "stream",
     "text": [
      "3322-362.zip: 8.24MiB [00:02, 3.63MiB/s]\n"
     ]
    },
    {
     "name": "stdout",
     "output_type": "stream",
     "text": [
      "Baixando quadrícula 3322-361 (RGB)...\n"
     ]
    },
    {
     "name": "stderr",
     "output_type": "stream",
     "text": [
      "3322-361.zip: 7.26MiB [00:03, 2.19MiB/s]\n"
     ]
    },
    {
     "name": "stdout",
     "output_type": "stream",
     "text": [
      "Baixando quadrícula 3322-361 (IrGB)...\n"
     ]
    },
    {
     "name": "stderr",
     "output_type": "stream",
     "text": [
      "3322-361.zip: 7.73MiB [00:02, 2.97MiB/s]\n"
     ]
    },
    {
     "name": "stdout",
     "output_type": "stream",
     "text": [
      "Baixando quadrícula 3322-352 (RGB)...\n"
     ]
    },
    {
     "name": "stderr",
     "output_type": "stream",
     "text": [
      "3322-352.zip: 6.96MiB [00:02, 2.76MiB/s]\n"
     ]
    },
    {
     "name": "stdout",
     "output_type": "stream",
     "text": [
      "Baixando quadrícula 3322-352 (IrGB)...\n"
     ]
    },
    {
     "name": "stderr",
     "output_type": "stream",
     "text": [
      "3322-352.zip: 7.42MiB [00:02, 3.66MiB/s]\n"
     ]
    },
    {
     "name": "stdout",
     "output_type": "stream",
     "text": [
      "Baixando quadrícula 3322-351 (RGB)...\n"
     ]
    },
    {
     "name": "stderr",
     "output_type": "stream",
     "text": [
      "3322-351.zip: 7.66MiB [00:02, 3.20MiB/s]\n"
     ]
    },
    {
     "name": "stdout",
     "output_type": "stream",
     "text": [
      "Baixando quadrícula 3322-351 (IrGB)...\n"
     ]
    },
    {
     "name": "stderr",
     "output_type": "stream",
     "text": [
      "3322-351.zip: 8.03MiB [00:02, 3.20MiB/s]\n"
     ]
    },
    {
     "name": "stdout",
     "output_type": "stream",
     "text": [
      "Baixando quadrícula 4311-343 (RGB)...\n"
     ]
    },
    {
     "name": "stderr",
     "output_type": "stream",
     "text": [
      "4311-343.zip: 8.89MiB [00:02, 3.52MiB/s]\n"
     ]
    },
    {
     "name": "stdout",
     "output_type": "stream",
     "text": [
      "Baixando quadrícula 4311-343 (IrGB)...\n"
     ]
    },
    {
     "name": "stderr",
     "output_type": "stream",
     "text": [
      "4311-343.zip: 9.58MiB [00:03, 3.28MiB/s]\n"
     ]
    },
    {
     "name": "stdout",
     "output_type": "stream",
     "text": [
      "Baixando quadrícula 3322-464 (RGB)...\n"
     ]
    },
    {
     "name": "stderr",
     "output_type": "stream",
     "text": [
      "3322-464.zip: 9.06MiB [00:02, 3.29MiB/s]\n"
     ]
    },
    {
     "name": "stdout",
     "output_type": "stream",
     "text": [
      "Baixando quadrícula 3322-464 (IrGB)...\n"
     ]
    },
    {
     "name": "stderr",
     "output_type": "stream",
     "text": [
      "3322-464.zip: 9.76MiB [00:02, 3.47MiB/s]\n"
     ]
    },
    {
     "name": "stdout",
     "output_type": "stream",
     "text": [
      "Baixando quadrícula 3322-463 (RGB)...\n"
     ]
    },
    {
     "name": "stderr",
     "output_type": "stream",
     "text": [
      "3322-463.zip: 9.07MiB [00:03, 2.84MiB/s]\n"
     ]
    },
    {
     "name": "stdout",
     "output_type": "stream",
     "text": [
      "Baixando quadrícula 3322-463 (IrGB)...\n"
     ]
    },
    {
     "name": "stderr",
     "output_type": "stream",
     "text": [
      "3322-463.zip: 9.78MiB [00:03, 3.14MiB/s]\n"
     ]
    },
    {
     "name": "stdout",
     "output_type": "stream",
     "text": [
      "Baixando quadrícula 3322-454 (RGB)...\n"
     ]
    },
    {
     "name": "stderr",
     "output_type": "stream",
     "text": [
      "3322-454.zip: 9.53MiB [00:03, 2.55MiB/s]\n"
     ]
    },
    {
     "name": "stdout",
     "output_type": "stream",
     "text": [
      "Baixando quadrícula 3322-454 (IrGB)...\n"
     ]
    },
    {
     "name": "stderr",
     "output_type": "stream",
     "text": [
      "3322-454.zip: 9.93MiB [00:03, 3.29MiB/s]\n"
     ]
    },
    {
     "name": "stdout",
     "output_type": "stream",
     "text": [
      "Baixando quadrícula 3322-453 (RGB)...\n"
     ]
    },
    {
     "name": "stderr",
     "output_type": "stream",
     "text": [
      "3322-453.zip: 9.20MiB [00:02, 3.68MiB/s]\n"
     ]
    },
    {
     "name": "stdout",
     "output_type": "stream",
     "text": [
      "Baixando quadrícula 3322-453 (IrGB)...\n"
     ]
    },
    {
     "name": "stderr",
     "output_type": "stream",
     "text": [
      "3322-453.zip: 9.45MiB [00:02, 3.55MiB/s]\n"
     ]
    },
    {
     "name": "stdout",
     "output_type": "stream",
     "text": [
      "Baixando quadrícula 3322-444 (RGB)...\n"
     ]
    },
    {
     "name": "stderr",
     "output_type": "stream",
     "text": [
      "3322-444.zip: 8.56MiB [00:03, 2.85MiB/s]\n"
     ]
    },
    {
     "name": "stdout",
     "output_type": "stream",
     "text": [
      "Baixando quadrícula 3322-444 (IrGB)...\n"
     ]
    },
    {
     "name": "stderr",
     "output_type": "stream",
     "text": [
      "3322-444.zip: 8.94MiB [00:03, 3.04MiB/s]\n"
     ]
    },
    {
     "name": "stdout",
     "output_type": "stream",
     "text": [
      "Baixando quadrícula 3322-443 (RGB)...\n"
     ]
    },
    {
     "name": "stderr",
     "output_type": "stream",
     "text": [
      "3322-443.zip: 7.84MiB [00:02, 3.21MiB/s]\n"
     ]
    },
    {
     "name": "stdout",
     "output_type": "stream",
     "text": [
      "Baixando quadrícula 3322-443 (IrGB)...\n"
     ]
    },
    {
     "name": "stderr",
     "output_type": "stream",
     "text": [
      "3322-443.zip: 8.23MiB [00:02, 3.53MiB/s]\n"
     ]
    },
    {
     "name": "stdout",
     "output_type": "stream",
     "text": [
      "Baixando quadrícula 3322-364 (RGB)...\n"
     ]
    },
    {
     "name": "stderr",
     "output_type": "stream",
     "text": [
      "3322-364.zip: 7.84MiB [00:02, 3.34MiB/s]\n"
     ]
    },
    {
     "name": "stdout",
     "output_type": "stream",
     "text": [
      "Baixando quadrícula 3322-364 (IrGB)...\n"
     ]
    },
    {
     "name": "stderr",
     "output_type": "stream",
     "text": [
      "3322-364.zip: 8.13MiB [00:02, 3.03MiB/s]\n"
     ]
    },
    {
     "name": "stdout",
     "output_type": "stream",
     "text": [
      "Baixando quadrícula 3322-363 (RGB)...\n"
     ]
    },
    {
     "name": "stderr",
     "output_type": "stream",
     "text": [
      "3322-363.zip: 7.12MiB [00:02, 3.56MiB/s]\n"
     ]
    },
    {
     "name": "stdout",
     "output_type": "stream",
     "text": [
      "Baixando quadrícula 3322-363 (IrGB)...\n"
     ]
    },
    {
     "name": "stderr",
     "output_type": "stream",
     "text": [
      "3322-363.zip: 7.45MiB [00:02, 3.53MiB/s]\n"
     ]
    },
    {
     "name": "stdout",
     "output_type": "stream",
     "text": [
      "Baixando quadrícula 3322-354 (RGB)...\n"
     ]
    },
    {
     "name": "stderr",
     "output_type": "stream",
     "text": [
      "3322-354.zip: 7.21MiB [00:02, 3.51MiB/s]\n"
     ]
    },
    {
     "name": "stdout",
     "output_type": "stream",
     "text": [
      "Baixando quadrícula 3322-354 (IrGB)...\n"
     ]
    },
    {
     "name": "stderr",
     "output_type": "stream",
     "text": [
      "3322-354.zip: 7.64MiB [00:02, 2.89MiB/s]\n"
     ]
    },
    {
     "name": "stdout",
     "output_type": "stream",
     "text": [
      "Baixando quadrícula 3322-353 (RGB)...\n"
     ]
    },
    {
     "name": "stderr",
     "output_type": "stream",
     "text": [
      "3322-353.zip: 7.70MiB [00:02, 2.99MiB/s]\n"
     ]
    },
    {
     "name": "stdout",
     "output_type": "stream",
     "text": [
      "Baixando quadrícula 3322-353 (IrGB)...\n"
     ]
    },
    {
     "name": "stderr",
     "output_type": "stream",
     "text": [
      "3322-353.zip: 8.02MiB [00:02, 3.08MiB/s]\n"
     ]
    },
    {
     "name": "stdout",
     "output_type": "stream",
     "text": [
      "Baixando quadrícula 4313-112 (RGB)...\n"
     ]
    },
    {
     "name": "stderr",
     "output_type": "stream",
     "text": [
      "4313-112.zip: 8.69MiB [00:02, 3.47MiB/s]\n"
     ]
    },
    {
     "name": "stdout",
     "output_type": "stream",
     "text": [
      "Baixando quadrícula 4313-112 (IrGB)...\n"
     ]
    },
    {
     "name": "stderr",
     "output_type": "stream",
     "text": [
      "4313-112.zip: 9.20MiB [00:02, 3.67MiB/s]\n"
     ]
    },
    {
     "name": "stdout",
     "output_type": "stream",
     "text": [
      "Baixando quadrícula 4313-111 (RGB)...\n"
     ]
    },
    {
     "name": "stderr",
     "output_type": "stream",
     "text": [
      "4313-111.zip: 8.76MiB [00:02, 3.46MiB/s]\n"
     ]
    },
    {
     "name": "stdout",
     "output_type": "stream",
     "text": [
      "Baixando quadrícula 4313-111 (IrGB)...\n"
     ]
    },
    {
     "name": "stderr",
     "output_type": "stream",
     "text": [
      "4313-111.zip: 9.35MiB [00:03, 3.07MiB/s]\n"
     ]
    },
    {
     "name": "stdout",
     "output_type": "stream",
     "text": [
      "Baixando quadrícula 3324-232 (RGB)...\n"
     ]
    },
    {
     "name": "stderr",
     "output_type": "stream",
     "text": [
      "3324-232.zip: 9.32MiB [00:02, 3.65MiB/s]\n"
     ]
    },
    {
     "name": "stdout",
     "output_type": "stream",
     "text": [
      "Baixando quadrícula 3324-232 (IrGB)...\n"
     ]
    },
    {
     "name": "stderr",
     "output_type": "stream",
     "text": [
      "3324-232.zip: 9.93MiB [00:02, 3.72MiB/s]\n"
     ]
    },
    {
     "name": "stdout",
     "output_type": "stream",
     "text": [
      "Baixando quadrícula 3324-231 (RGB)...\n"
     ]
    },
    {
     "name": "stderr",
     "output_type": "stream",
     "text": [
      "3324-231.zip: 9.47MiB [00:02, 3.70MiB/s]\n"
     ]
    },
    {
     "name": "stdout",
     "output_type": "stream",
     "text": [
      "Baixando quadrícula 3324-231 (IrGB)...\n"
     ]
    },
    {
     "name": "stderr",
     "output_type": "stream",
     "text": [
      "3324-231.zip: 10.1MiB [00:03, 3.24MiB/s]\n"
     ]
    },
    {
     "name": "stdout",
     "output_type": "stream",
     "text": [
      "Baixando quadrícula 3324-222 (RGB)...\n"
     ]
    },
    {
     "name": "stderr",
     "output_type": "stream",
     "text": [
      "3324-222.zip: 9.37MiB [00:03, 2.80MiB/s]\n"
     ]
    },
    {
     "name": "stdout",
     "output_type": "stream",
     "text": [
      "Baixando quadrícula 3324-222 (IrGB)...\n"
     ]
    },
    {
     "name": "stderr",
     "output_type": "stream",
     "text": [
      "3324-222.zip: 9.68MiB [00:03, 2.93MiB/s]\n"
     ]
    },
    {
     "name": "stdout",
     "output_type": "stream",
     "text": [
      "Baixando quadrícula 3324-221 (RGB)...\n"
     ]
    },
    {
     "name": "stderr",
     "output_type": "stream",
     "text": [
      "3324-221.zip: 8.45MiB [00:02, 3.43MiB/s]\n"
     ]
    },
    {
     "name": "stdout",
     "output_type": "stream",
     "text": [
      "Baixando quadrícula 3324-221 (IrGB)...\n"
     ]
    },
    {
     "name": "stderr",
     "output_type": "stream",
     "text": [
      "3324-221.zip: 8.77MiB [00:03, 3.04MiB/s]\n"
     ]
    },
    {
     "name": "stdout",
     "output_type": "stream",
     "text": [
      "Baixando quadrícula 3324-212 (RGB)...\n"
     ]
    },
    {
     "name": "stderr",
     "output_type": "stream",
     "text": [
      "3324-212.zip: 8.35MiB [00:02, 3.56MiB/s]\n"
     ]
    },
    {
     "name": "stdout",
     "output_type": "stream",
     "text": [
      "Baixando quadrícula 3324-212 (IrGB)...\n"
     ]
    },
    {
     "name": "stderr",
     "output_type": "stream",
     "text": [
      "3324-212.zip: 8.72MiB [00:03, 2.55MiB/s]\n"
     ]
    },
    {
     "name": "stdout",
     "output_type": "stream",
     "text": [
      "Baixando quadrícula 3324-211 (RGB)...\n"
     ]
    },
    {
     "name": "stderr",
     "output_type": "stream",
     "text": [
      "3324-211.zip: 7.85MiB [00:04, 2.02MiB/s]\n"
     ]
    },
    {
     "name": "stdout",
     "output_type": "stream",
     "text": [
      "Baixando quadrícula 3324-211 (IrGB)...\n"
     ]
    },
    {
     "name": "stderr",
     "output_type": "stream",
     "text": [
      "3324-211.zip: 8.21MiB [00:02, 3.30MiB/s]\n"
     ]
    },
    {
     "name": "stdout",
     "output_type": "stream",
     "text": [
      "Baixando quadrícula 3324-132 (RGB)...\n"
     ]
    },
    {
     "name": "stderr",
     "output_type": "stream",
     "text": [
      "3324-132.zip: 7.40MiB [00:02, 2.92MiB/s]\n"
     ]
    },
    {
     "name": "stdout",
     "output_type": "stream",
     "text": [
      "Baixando quadrícula 3324-132 (IrGB)...\n"
     ]
    },
    {
     "name": "stderr",
     "output_type": "stream",
     "text": [
      "3324-132.zip: 7.80MiB [00:02, 3.18MiB/s]\n"
     ]
    },
    {
     "name": "stdout",
     "output_type": "stream",
     "text": [
      "Baixando quadrícula 3324-234 (RGB)...\n"
     ]
    },
    {
     "name": "stderr",
     "output_type": "stream",
     "text": [
      "3324-234.zip: 10.7MiB [00:03, 3.47MiB/s]\n"
     ]
    },
    {
     "name": "stdout",
     "output_type": "stream",
     "text": [
      "Baixando quadrícula 3324-234 (IrGB)...\n"
     ]
    },
    {
     "name": "stderr",
     "output_type": "stream",
     "text": [
      "3324-234.zip: 11.2MiB [00:03, 3.22MiB/s]\n"
     ]
    },
    {
     "name": "stdout",
     "output_type": "stream",
     "text": [
      "Baixando quadrícula 3324-233 (RGB)...\n"
     ]
    },
    {
     "name": "stderr",
     "output_type": "stream",
     "text": [
      "3324-233.zip: 10.7MiB [00:03, 3.32MiB/s]\n"
     ]
    },
    {
     "name": "stdout",
     "output_type": "stream",
     "text": [
      "Baixando quadrícula 3324-233 (IrGB)...\n"
     ]
    },
    {
     "name": "stderr",
     "output_type": "stream",
     "text": [
      "3324-233.zip: 10.9MiB [00:03, 3.32MiB/s]\n"
     ]
    },
    {
     "name": "stdout",
     "output_type": "stream",
     "text": [
      "Baixando quadrícula 3324-224 (RGB)...\n"
     ]
    },
    {
     "name": "stderr",
     "output_type": "stream",
     "text": [
      "3324-224.zip: 9.11MiB [00:02, 3.34MiB/s]\n"
     ]
    },
    {
     "name": "stdout",
     "output_type": "stream",
     "text": [
      "Baixando quadrícula 3324-224 (IrGB)...\n"
     ]
    },
    {
     "name": "stderr",
     "output_type": "stream",
     "text": [
      "3324-224.zip: 9.37MiB [00:02, 3.45MiB/s]\n"
     ]
    },
    {
     "name": "stdout",
     "output_type": "stream",
     "text": [
      "Baixando quadrícula 3324-223 (RGB)...\n"
     ]
    },
    {
     "name": "stderr",
     "output_type": "stream",
     "text": [
      "3324-223.zip: 8.85MiB [00:04, 2.09MiB/s]\n"
     ]
    },
    {
     "name": "stdout",
     "output_type": "stream",
     "text": [
      "Baixando quadrícula 3324-223 (IrGB)...\n"
     ]
    },
    {
     "name": "stderr",
     "output_type": "stream",
     "text": [
      "3324-223.zip: 9.19MiB [00:05, 1.88MiB/s]\n"
     ]
    },
    {
     "name": "stdout",
     "output_type": "stream",
     "text": [
      "Baixando quadrícula 3324-214 (RGB)...\n"
     ]
    },
    {
     "name": "stderr",
     "output_type": "stream",
     "text": [
      "3324-214.zip: 7.51MiB [00:02, 3.48MiB/s]\n"
     ]
    },
    {
     "name": "stdout",
     "output_type": "stream",
     "text": [
      "Baixando quadrícula 3324-214 (IrGB)...\n"
     ]
    },
    {
     "name": "stderr",
     "output_type": "stream",
     "text": [
      "3324-214.zip: 7.87MiB [00:02, 3.74MiB/s]\n"
     ]
    },
    {
     "name": "stdout",
     "output_type": "stream",
     "text": [
      "Baixando quadrícula 3324-213 (RGB)...\n"
     ]
    },
    {
     "name": "stderr",
     "output_type": "stream",
     "text": [
      "3324-213.zip: 7.95MiB [00:02, 3.58MiB/s]\n"
     ]
    },
    {
     "name": "stdout",
     "output_type": "stream",
     "text": [
      "Baixando quadrícula 3324-213 (IrGB)...\n"
     ]
    },
    {
     "name": "stderr",
     "output_type": "stream",
     "text": [
      "3324-213.zip: 8.31MiB [00:02, 3.13MiB/s]\n"
     ]
    },
    {
     "name": "stdout",
     "output_type": "stream",
     "text": [
      "Baixando quadrícula 3324-252 (RGB)...\n"
     ]
    },
    {
     "name": "stderr",
     "output_type": "stream",
     "text": [
      "3324-252.zip: 10.5MiB [00:03, 3.58MiB/s]\n"
     ]
    },
    {
     "name": "stdout",
     "output_type": "stream",
     "text": [
      "Baixando quadrícula 3324-252 (IrGB)...\n"
     ]
    },
    {
     "name": "stderr",
     "output_type": "stream",
     "text": [
      "3324-252.zip: 10.7MiB [00:03, 3.26MiB/s]\n"
     ]
    },
    {
     "name": "stdout",
     "output_type": "stream",
     "text": [
      "Baixando quadrícula 3324-251 (RGB)...\n"
     ]
    },
    {
     "name": "stderr",
     "output_type": "stream",
     "text": [
      "3324-251.zip: 8.13MiB [00:02, 3.07MiB/s]\n"
     ]
    },
    {
     "name": "stdout",
     "output_type": "stream",
     "text": [
      "Baixando quadrícula 3324-251 (IrGB)...\n"
     ]
    },
    {
     "name": "stderr",
     "output_type": "stream",
     "text": [
      "3324-251.zip: 8.36MiB [00:02, 2.93MiB/s]\n"
     ]
    }
   ],
   "source": [
    "# Fazer download das imagens das quadrículas selecionadas\n",
    "for _, row in quadriculas_selecionadas.iterrows():\n",
    "    cd_quadricula = row['cd_quadricula']\n",
    "    url_rgb = base_url_rgb.format(cd_quadricula)\n",
    "    url_irgb = base_url_irgb.format(cd_quadricula)\n",
    "    dest_rgb = f'downloads/rgb/{cd_quadricula}.zip'\n",
    "    dest_irgb = f'downloads/irgb/{cd_quadricula}.zip'\n",
    "    \n",
    "    print(f'Baixando quadrícula {cd_quadricula} (RGB)...')\n",
    "    download_file(url_rgb, dest_rgb)\n",
    "    \n",
    "    print(f'Baixando quadrícula {cd_quadricula} (IrGB)...')\n",
    "    download_file(url_irgb, dest_irgb)"
   ]
  },
  {
   "cell_type": "code",
   "execution_count": 6,
   "id": "5242d5a7-f120-41c1-9248-ffdbd183493c",
   "metadata": {},
   "outputs": [],
   "source": [
    "# Diretórios onde as imagens baixadas estão armazenadas\n",
    "rgb_dir = 'downloads/rgb'\n",
    "irgb_dir = 'downloads/irgb'"
   ]
  },
  {
   "cell_type": "code",
   "execution_count": 7,
   "id": "ed429f7f-d104-4b80-9ba3-8cadf926c236",
   "metadata": {},
   "outputs": [],
   "source": [
    "# Diretórios onde os arquivos ZIP estão armazenados e onde os arquivos extraídos serão armazenados\n",
    "rgb_zip_dir = 'downloads/rgb'\n",
    "irgb_zip_dir = 'downloads/irgb'\n",
    "extracted_rgb_dir = 'extraidos/rgb'\n",
    "extracted_irgb_dir = 'extraidos/irgb'"
   ]
  },
  {
   "cell_type": "code",
   "execution_count": 91,
   "id": "4a543d82-dc05-44e9-9671-3f9304f9bf8a",
   "metadata": {},
   "outputs": [
    {
     "name": "stdout",
     "output_type": "stream",
     "text": [
      "Extração concluída.\n"
     ]
    }
   ],
   "source": [
    "\n",
    "# Função para listar os arquivos ZIP dentro de um diretório\n",
    "def list_zip_files(directory):\n",
    "    return [os.path.join(directory, f) for f in os.listdir(directory) if f.endswith('.zip')]\n",
    "\n",
    "# Função para extrair arquivos JP2 de arquivos ZIP\n",
    "def extract_zip_files(zip_files, output_dir):\n",
    "    os.makedirs(output_dir, exist_ok=True)\n",
    "    for zip_file in zip_files:\n",
    "        with ZipFile(zip_file, 'r') as zip_ref:\n",
    "            zip_ref.extractall(output_dir)\n",
    "\n",
    "# Listar os arquivos ZIP\n",
    "rgb_zip_files = list_zip_files(rgb_zip_dir)\n",
    "irgb_zip_files = list_zip_files(irgb_zip_dir)\n",
    "\n",
    "# Extrair os arquivos JP2 dos arquivos ZIP\n",
    "extract_zip_files(rgb_zip_files, extracted_rgb_dir)\n",
    "extract_zip_files(irgb_zip_files, extracted_irgb_dir)\n",
    "\n",
    "print(\"Extração concluída.\")\n"
   ]
  },
  {
   "cell_type": "code",
   "execution_count": null,
   "id": "c62e5b89-6a4e-4b2b-8b28-dadfc755406f",
   "metadata": {
    "scrolled": true
   },
   "outputs": [],
   "source": [
    "# Função para listar os arquivos JP2 dentro de um diretório\n",
    "def list_jp2_files(directory):\n",
    "    return [os.path.join(directory, f) for f in os.listdir(directory) if f.endswith('.jp2')]\n",
    "\n",
    "# Função para criar mosaico a partir dos arquivos JP2\n",
    "def create_mosaic(image_files, output_path, crs):\n",
    "    src_files_to_mosaic = [rasterio.open(f) for f in image_files]\n",
    "    mosaic, out_trans = merge(src_files_to_mosaic)\n",
    "    out_meta = src_files_to_mosaic[0].meta.copy()\n",
    "    out_meta.update({\n",
    "        \"driver\": \"GTiff\",\n",
    "        \"height\": mosaic.shape[1],\n",
    "        \"width\": mosaic.shape[2],\n",
    "        \"transform\": out_trans,\n",
    "        \"crs\": crs,\n",
    "        \"count\": mosaic.shape[0]\n",
    "    })\n",
    "    with rasterio.open(output_path, \"w\", **out_meta) as dest:\n",
    "        dest.write(mosaic)\n",
    "    for src in src_files_to_mosaic:\n",
    "        src.close()\n",
    "\n",
    "# Listar os arquivos JP2 extraídos\n",
    "rgb_jp2_files = list_jp2_files(extracted_rgb_dir)\n",
    "irgb_jp2_files = list_jp2_files(extracted_irgb_dir)\n",
    "\n",
    "# Definir o CRS correto (EPSG:31983)\n",
    "crs = rasterio.crs.CRS.from_epsg(31983)\n",
    "\n",
    "# Criar os mosaicos RGB e IrGB\n",
    "create_mosaic(rgb_jp2_files, 'mosaic_rgb.tif', crs)\n",
    "create_mosaic(irgb_jp2_files, 'mosaic_irgb.tif', crs)\n",
    "\n",
    "print(\"Mosaicos RGB e IrGB criados com CRS definido.\")\n"
   ]
  },
  {
   "cell_type": "code",
   "execution_count": null,
   "id": "dd02b445-b17f-4286-888d-20ce44462794",
   "metadata": {},
   "outputs": [],
   "source": [
    "import rasterio\n",
    "from rasterio.merge import merge\n",
    "import numpy as np\n",
    "\n",
    "# Função para listar os arquivos JP2 dentro de um diretório\n",
    "def list_jp2_files(directory):\n",
    "    return [os.path.join(directory, f) for f in os.listdir(directory) if f.endswith('.jp2')]\n",
    "\n",
    "# Função para criar mosaico a partir dos arquivos JP2\n",
    "def create_mosaic(image_files, output_path, crs):\n",
    "    src_files_to_mosaic = [rasterio.open(f) for f in image_files]\n",
    "    mosaic, out_trans = merge(src_files_to_mosaic)\n",
    "    out_meta = src_files_to_mosaic[0].meta.copy()\n",
    "    out_meta.update({\n",
    "        \"driver\": \"GTiff\",\n",
    "        \"height\": mosaic.shape[1],\n",
    "        \"width\": mosaic.shape[2],\n",
    "        \"transform\": out_trans,\n",
    "        \"crs\": crs.to_wkt(),  # Define o CRS manualmente\n",
    "        \"count\": mosaic.shape[0]\n",
    "    })\n",
    "    with rasterio.open(output_path, \"w\", **out_meta) as dest:\n",
    "        dest.write(mosaic)\n",
    "    for src in src_files_to_mosaic:\n",
    "        src.close()\n",
    "\n",
    "# Listar os arquivos JP2 extraídos\n",
    "rgb_jp2_files = list_jp2_files(extracted_rgb_dir)\n",
    "irgb_jp2_files = list_jp2_files(extracted_irgb_dir)\n",
    "\n",
    "# Definir o CRS correto manualmente (EPSG:31983)\n",
    "crs = rasterio.crs.CRS.from_wkt(\n",
    "    'PROJCS[\"SIRGAS 2000 / UTM zone 23S\",'\n",
    "    'GEOGCS[\"SIRGAS 2000\",'\n",
    "    'DATUM[\"Sistema_de_Referencia_Geocentrico_para_las_Americas_2000\",'\n",
    "    'SPHEROID[\"GRS 1980\",6378137,298.257222101,'\n",
    "    'AUTHORITY[\"EPSG\",\"7019\"]],'\n",
    "    'AUTHORITY[\"EPSG\",\"6674\"]],'\n",
    "    'PRIMEM[\"Greenwich\",0,'\n",
    "    'AUTHORITY[\"EPSG\",\"8901\"]],'\n",
    "    'UNIT[\"degree\",0.0174532925199433,'\n",
    "    'AUTHORITY[\"EPSG\",\"9122\"]],'\n",
    "    'AUTHORITY[\"EPSG\",\"4674\"]],'\n",
    "    'UNIT[\"metre\",1,'\n",
    "    'AUTHORITY[\"EPSG\",\"9001\"]],'\n",
    "    'PROJECTION[\"Transverse_Mercator\"],'\n",
    "    'PARAMETER[\"latitude_of_origin\",0],'\n",
    "    'PARAMETER[\"central_meridian\",-45],'\n",
    "    'PARAMETER[\"scale_factor\",0.9996],'\n",
    "    'PARAMETER[\"false_easting\",500000],'\n",
    "    'PARAMETER[\"false_northing\",10000000],'\n",
    "    'AUTHORITY[\"EPSG\",\"31983\"],'\n",
    "    'AXIS[\"Easting\",EAST],'\n",
    "    'AXIS[\"Northing\",NORTH]]'\n",
    ")\n",
    "\n",
    "# Criar os mosaicos RGB e IrGB\n",
    "create_mosaic(rgb_jp2_files, 'mosaic_rgb.tif', crs)\n",
    "create_mosaic(irgb_jp2_files, 'mosaic_irgb.tif', crs)\n",
    "\n",
    "print(\"Mosaicos RGB e IrGB criados com CRS definido manualmente.\")\n"
   ]
  },
  {
   "cell_type": "code",
   "execution_count": null,
   "id": "aa0e0f55-e819-4a1b-8e0d-edd8fb1d3f91",
   "metadata": {},
   "outputs": [],
   "source": []
  }
 ],
 "metadata": {
  "kernelspec": {
   "display_name": "Python 3 (ipykernel)",
   "language": "python",
   "name": "python3"
  },
  "language_info": {
   "codemirror_mode": {
    "name": "ipython",
    "version": 3
   },
   "file_extension": ".py",
   "mimetype": "text/x-python",
   "name": "python",
   "nbconvert_exporter": "python",
   "pygments_lexer": "ipython3",
   "version": "3.11.8"
  }
 },
 "nbformat": 4,
 "nbformat_minor": 5
}
